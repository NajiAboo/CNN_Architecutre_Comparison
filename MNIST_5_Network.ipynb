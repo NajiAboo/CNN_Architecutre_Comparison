{
  "nbformat": 4,
  "nbformat_minor": 0,
  "metadata": {
    "colab": {
      "name": "MNIST_5_Network.ipynb",
      "provenance": []
    },
    "kernelspec": {
      "display_name": "Python 3",
      "name": "python3"
    },
    "language_info": {
      "name": "python"
    },
    "accelerator": "GPU"
  },
  "cells": [
    {
      "cell_type": "code",
      "metadata": {
        "id": "3ZQbStzjXxg3"
      },
      "source": [
        "import numpy as np\n",
        "import pandas as pd\n",
        "import matplotlib.pyplot as plt\n",
        "from tensorflow import keras"
      ],
      "execution_count": 1,
      "outputs": []
    },
    {
      "cell_type": "code",
      "metadata": {
        "id": "a6rdQtTjYiso",
        "colab": {
          "base_uri": "https://localhost:8080/"
        },
        "outputId": "78adc692-cc27-44b3-9fa5-20ac9a0270b7"
      },
      "source": [
        "(X_train,y_train), (X_test,y_test) = keras.datasets.mnist.load_data()"
      ],
      "execution_count": 2,
      "outputs": [
        {
          "output_type": "stream",
          "text": [
            "Downloading data from https://storage.googleapis.com/tensorflow/tf-keras-datasets/mnist.npz\n",
            "11493376/11490434 [==============================] - 0s 0us/step\n"
          ],
          "name": "stdout"
        }
      ]
    },
    {
      "cell_type": "code",
      "metadata": {
        "colab": {
          "base_uri": "https://localhost:8080/"
        },
        "id": "OlhZv88UZF2s",
        "outputId": "23de92dd-001b-4390-9921-aefb3e6cc384"
      },
      "source": [
        "X_train.shape"
      ],
      "execution_count": 3,
      "outputs": [
        {
          "output_type": "execute_result",
          "data": {
            "text/plain": [
              "(60000, 28, 28)"
            ]
          },
          "metadata": {
            "tags": []
          },
          "execution_count": 3
        }
      ]
    },
    {
      "cell_type": "code",
      "metadata": {
        "colab": {
          "base_uri": "https://localhost:8080/",
          "height": 283
        },
        "id": "IsSjUddtZItb",
        "outputId": "19684a1d-256d-4a1a-cfc7-1fc45896e13c"
      },
      "source": [
        "plt.imshow(X_train[0])"
      ],
      "execution_count": 4,
      "outputs": [
        {
          "output_type": "execute_result",
          "data": {
            "text/plain": [
              "<matplotlib.image.AxesImage at 0x7f1c728af950>"
            ]
          },
          "metadata": {
            "tags": []
          },
          "execution_count": 4
        },
        {
          "output_type": "display_data",
          "data": {
            "image/png": "[encoded data removed]",
            "text/plain": [
              "<Figure size 432x288 with 1 Axes>"
            ]
          },
          "metadata": {
            "tags": [],
            "needs_background": "light"
          }
        }
      ]
    },
    {
      "cell_type": "code",
      "metadata": {
        "id": "sDaK5FHVZLi4"
      },
      "source": [
        "input_shape = (28,28,1)\n",
        "num_classes = 10\n",
        "img_rows, img_cols = 28,28"
      ],
      "execution_count": 5,
      "outputs": []
    },
    {
      "cell_type": "code",
      "metadata": {
        "id": "gJ2_U_mgbHdl"
      },
      "source": [
        "X_train = X_train.astype(np.float32)/255\n",
        "X_test = X_test.astype(np.float32)/255"
      ],
      "execution_count": 6,
      "outputs": []
    },
    {
      "cell_type": "code",
      "metadata": {
        "id": "Adx6JpvxZWJ-"
      },
      "source": [
        "X_train = X_train.reshape(X_train.shape[0], img_rows,img_cols,1)\n",
        "X_test = X_test.reshape(X_test.shape[0], img_rows, img_cols,1)\n"
      ],
      "execution_count": 7,
      "outputs": []
    },
    {
      "cell_type": "code",
      "metadata": {
        "id": "a-bOX7vUZk5l"
      },
      "source": [
        "from keras.utils import np_utils\n",
        " "
      ],
      "execution_count": 8,
      "outputs": []
    },
    {
      "cell_type": "code",
      "metadata": {
        "id": "IsuBSiyNZ0_C"
      },
      "source": [
        "y_train = np_utils.to_categorical(y_train, num_classes)\n",
        "y_test = np_utils.to_categorical(y_test, num_classes)"
      ],
      "execution_count": 9,
      "outputs": []
    },
    {
      "cell_type": "code",
      "metadata": {
        "colab": {
          "base_uri": "https://localhost:8080/"
        },
        "id": "MbNlBYR_Zvyn",
        "outputId": "d4bfbf9c-ace2-4080-aa89-5affaf81bc43"
      },
      "source": [
        "y_train"
      ],
      "execution_count": 10,
      "outputs": [
        {
          "output_type": "execute_result",
          "data": {
            "text/plain": [
              "array([[0., 0., 0., ..., 0., 0., 0.],\n",
              "       [1., 0., 0., ..., 0., 0., 0.],\n",
              "       [0., 0., 0., ..., 0., 0., 0.],\n",
              "       ...,\n",
              "       [0., 0., 0., ..., 0., 0., 0.],\n",
              "       [0., 0., 0., ..., 0., 0., 0.],\n",
              "       [0., 0., 0., ..., 0., 1., 0.]], dtype=float32)"
            ]
          },
          "metadata": {
            "tags": []
          },
          "execution_count": 10
        }
      ]
    },
    {
      "cell_type": "code",
      "metadata": {
        "colab": {
          "base_uri": "https://localhost:8080/"
        },
        "id": "pDbM6wC8c1Kt",
        "outputId": "26f04916-d4d6-425c-d14f-c7cbab6e15f4"
      },
      "source": [
        "y_test"
      ],
      "execution_count": 11,
      "outputs": [
        {
          "output_type": "execute_result",
          "data": {
            "text/plain": [
              "array([[0., 0., 0., ..., 1., 0., 0.],\n",
              "       [0., 0., 1., ..., 0., 0., 0.],\n",
              "       [0., 1., 0., ..., 0., 0., 0.],\n",
              "       ...,\n",
              "       [0., 0., 0., ..., 0., 0., 0.],\n",
              "       [0., 0., 0., ..., 0., 0., 0.],\n",
              "       [0., 0., 0., ..., 0., 0., 0.]], dtype=float32)"
            ]
          },
          "metadata": {
            "tags": []
          },
          "execution_count": 11
        }
      ]
    },
    {
      "cell_type": "code",
      "metadata": {
        "id": "fYFP3FJ7dEj4"
      },
      "source": [
        "from tensorflow.keras.models import Sequential\n",
        "from tensorflow.keras.layers import Conv2D, Dropout,MaxPool2D,Flatten,Dense"
      ],
      "execution_count": 12,
      "outputs": []
    },
    {
      "cell_type": "markdown",
      "metadata": {
        "id": "WEiu79VhdCCD"
      },
      "source": [
        "Model Architecture - 1"
      ]
    },
    {
      "cell_type": "code",
      "metadata": {
        "colab": {
          "base_uri": "https://localhost:8080/"
        },
        "id": "c0UFwMMdYuaO",
        "outputId": "3372b9f3-f61d-48bf-a7f2-393abed1d773"
      },
      "source": [
        "model1 = Sequential()\n",
        "model1.add(Conv2D(32, kernel_size=(3,3),activation='relu', input_shape=input_shape))\n",
        "model1.add(Conv2D(32, kernel_size=(3,3), activation='relu'))\n",
        "model1.add(Conv2D(64, kernel_size=(3*3), activation='relu'))\n",
        "model1.add(MaxPool2D(pool_size=(2,2)))\n",
        "model1.add(Conv2D(64, kernel_size=(3,3), activation='relu'))\n",
        "model1.add(Conv2D(64,kernel_size=(3,3), activation='relu'))\n",
        "model1.add(Conv2D(64,kernel_size=(3,3), activation='relu'))\n",
        "model1.add(MaxPool2D(pool_size=(2,2)))\n",
        "model1.add(Flatten())\n",
        "model1.add(Dense(64, activation='relu'))\n",
        "model1.add(Dense(10, activation='softmax'))\n",
        "model1.summary()\n"
      ],
      "execution_count": 13,
      "outputs": [
        {
          "output_type": "stream",
          "text": [
            "Model: \"sequential\"\n",
            "_________________________________________________________________\n",
            "Layer (type)                 Output Shape              Param #   \n",
            "=================================================================\n",
            "conv2d (Conv2D)              (None, 26, 26, 32)        320       \n",
            "_________________________________________________________________\n",
            "conv2d_1 (Conv2D)            (None, 24, 24, 32)        9248      \n",
            "_________________________________________________________________\n",
            "conv2d_2 (Conv2D)            (None, 16, 16, 64)        165952    \n",
            "_________________________________________________________________\n",
            "max_pooling2d (MaxPooling2D) (None, 8, 8, 64)          0         \n",
            "_________________________________________________________________\n",
            "conv2d_3 (Conv2D)            (None, 6, 6, 64)          36928     \n",
            "_________________________________________________________________\n",
            "conv2d_4 (Conv2D)            (None, 4, 4, 64)          36928     \n",
            "_________________________________________________________________\n",
            "conv2d_5 (Conv2D)            (None, 2, 2, 64)          36928     \n",
            "_________________________________________________________________\n",
            "max_pooling2d_1 (MaxPooling2 (None, 1, 1, 64)          0         \n",
            "_________________________________________________________________\n",
            "flatten (Flatten)            (None, 64)                0         \n",
            "_________________________________________________________________\n",
            "dense (Dense)                (None, 64)                4160      \n",
            "_________________________________________________________________\n",
            "dense_1 (Dense)              (None, 10)                650       \n",
            "=================================================================\n",
            "Total params: 291,114\n",
            "Trainable params: 291,114\n",
            "Non-trainable params: 0\n",
            "_________________________________________________________________\n"
          ],
          "name": "stdout"
        }
      ]
    },
    {
      "cell_type": "code",
      "metadata": {
        "id": "XsmwL8AJhxgN"
      },
      "source": [
        "model1.compile(optimizer='rmsprop', loss='categorical_crossentropy', metrics=['accuracy'])"
      ],
      "execution_count": 14,
      "outputs": []
    },
    {
      "cell_type": "code",
      "metadata": {
        "colab": {
          "base_uri": "https://localhost:8080/"
        },
        "id": "C8arRkzUiLSQ",
        "outputId": "4b75ec6e-59ad-4e2e-cbd0-a2c013fe7f25"
      },
      "source": [
        "hist1 = model1.fit(X_train, y_train, batch_size=32, epochs=10, validation_data=(X_test, y_test), shuffle=True)"
      ],
      "execution_count": 15,
      "outputs": [
        {
          "output_type": "stream",
          "text": [
            "Epoch 1/10\n",
            "1875/1875 [==============================] - 43s 6ms/step - loss: 0.1583 - accuracy: 0.9505 - val_loss: 0.0633 - val_accuracy: 0.9813\n",
            "Epoch 2/10\n",
            "1875/1875 [==============================] - 11s 6ms/step - loss: 0.0518 - accuracy: 0.9856 - val_loss: 0.1024 - val_accuracy: 0.9714\n",
            "Epoch 3/10\n",
            "1875/1875 [==============================] - 11s 6ms/step - loss: 0.0433 - accuracy: 0.9889 - val_loss: 0.0353 - val_accuracy: 0.9899\n",
            "Epoch 4/10\n",
            "1875/1875 [==============================] - 11s 6ms/step - loss: 0.0395 - accuracy: 0.9904 - val_loss: 0.0414 - val_accuracy: 0.9902\n",
            "Epoch 5/10\n",
            "1875/1875 [==============================] - 12s 6ms/step - loss: 0.0353 - accuracy: 0.9916 - val_loss: 0.1091 - val_accuracy: 0.9828\n",
            "Epoch 6/10\n",
            "1875/1875 [==============================] - 11s 6ms/step - loss: 0.0385 - accuracy: 0.9920 - val_loss: 0.0479 - val_accuracy: 0.9909\n",
            "Epoch 7/10\n",
            "1875/1875 [==============================] - 11s 6ms/step - loss: 0.0359 - accuracy: 0.9923 - val_loss: 0.0601 - val_accuracy: 0.9911\n",
            "Epoch 8/10\n",
            "1875/1875 [==============================] - 11s 6ms/step - loss: 0.0404 - accuracy: 0.9918 - val_loss: 0.0918 - val_accuracy: 0.9856\n",
            "Epoch 9/10\n",
            "1875/1875 [==============================] - 11s 6ms/step - loss: 0.0490 - accuracy: 0.9916 - val_loss: 0.0415 - val_accuracy: 0.9925\n",
            "Epoch 10/10\n",
            "1875/1875 [==============================] - 12s 6ms/step - loss: 0.0492 - accuracy: 0.9907 - val_loss: 0.1337 - val_accuracy: 0.9767\n"
          ],
          "name": "stdout"
        }
      ]
    },
    {
      "cell_type": "markdown",
      "metadata": {
        "id": "hN3j_UZY1GFN"
      },
      "source": [
        "Architecture - 2"
      ]
    },
    {
      "cell_type": "code",
      "metadata": {
        "colab": {
          "base_uri": "https://localhost:8080/"
        },
        "id": "m9Oiw4NB1LKp",
        "outputId": "7f82dcfd-bd86-479e-d52b-1376d5416075"
      },
      "source": [
        "model2 = Sequential()\n",
        "model2.add(Conv2D(32, kernel_size=(3,3),activation='relu', input_shape=input_shape))\n",
        "model2.add(Conv2D(32, kernel_size=(3,3), activation='relu'))\n",
        "model2.add(Conv2D(64, kernel_size=(3*3), activation='relu'))\n",
        "model2.add(MaxPool2D(pool_size=(2,2)))\n",
        "model2.add(Conv2D(32,kernel_size=(3,3), activation='relu'))\n",
        "model2.add(MaxPool2D(pool_size=(2,2)))\n",
        "model2.add(Flatten())\n",
        "model2.add(Dense(32, activation='relu'))\n",
        "model2.add(Dense(10, activation='softmax'))\n",
        "model2.summary()"
      ],
      "execution_count": 16,
      "outputs": [
        {
          "output_type": "stream",
          "text": [
            "Model: \"sequential_1\"\n",
            "_________________________________________________________________\n",
            "Layer (type)                 Output Shape              Param #   \n",
            "=================================================================\n",
            "conv2d_6 (Conv2D)            (None, 26, 26, 32)        320       \n",
            "_________________________________________________________________\n",
            "conv2d_7 (Conv2D)            (None, 24, 24, 32)        9248      \n",
            "_________________________________________________________________\n",
            "conv2d_8 (Conv2D)            (None, 16, 16, 64)        165952    \n",
            "_________________________________________________________________\n",
            "max_pooling2d_2 (MaxPooling2 (None, 8, 8, 64)          0         \n",
            "_________________________________________________________________\n",
            "conv2d_9 (Conv2D)            (None, 6, 6, 32)          18464     \n",
            "_________________________________________________________________\n",
            "max_pooling2d_3 (MaxPooling2 (None, 3, 3, 32)          0         \n",
            "_________________________________________________________________\n",
            "flatten_1 (Flatten)          (None, 288)               0         \n",
            "_________________________________________________________________\n",
            "dense_2 (Dense)              (None, 32)                9248      \n",
            "_________________________________________________________________\n",
            "dense_3 (Dense)              (None, 10)                330       \n",
            "=================================================================\n",
            "Total params: 203,562\n",
            "Trainable params: 203,562\n",
            "Non-trainable params: 0\n",
            "_________________________________________________________________\n"
          ],
          "name": "stdout"
        }
      ]
    },
    {
      "cell_type": "code",
      "metadata": {
        "id": "VCWGX0WC1jJu"
      },
      "source": [
        "model2.compile(optimizer='rmsprop', loss='categorical_crossentropy', metrics=['accuracy'])"
      ],
      "execution_count": 17,
      "outputs": []
    },
    {
      "cell_type": "code",
      "metadata": {
        "colab": {
          "base_uri": "https://localhost:8080/"
        },
        "id": "sbHqlazS1nRg",
        "outputId": "23ce1fd2-d01c-41b5-a25e-a00c54428882"
      },
      "source": [
        "hist2 = model2.fit(X_train, y_train, batch_size=32, epochs=10, validation_data=(X_test, y_test), shuffle=True)"
      ],
      "execution_count": 18,
      "outputs": [
        {
          "output_type": "stream",
          "text": [
            "Epoch 1/10\n",
            "1875/1875 [==============================] - 11s 5ms/step - loss: 0.1307 - accuracy: 0.9589 - val_loss: 0.0354 - val_accuracy: 0.9883\n",
            "Epoch 2/10\n",
            "1875/1875 [==============================] - 10s 5ms/step - loss: 0.0429 - accuracy: 0.9872 - val_loss: 0.0322 - val_accuracy: 0.9903\n",
            "Epoch 3/10\n",
            "1875/1875 [==============================] - 10s 5ms/step - loss: 0.0334 - accuracy: 0.9901 - val_loss: 0.0285 - val_accuracy: 0.9907\n",
            "Epoch 4/10\n",
            "1875/1875 [==============================] - 10s 5ms/step - loss: 0.0261 - accuracy: 0.9923 - val_loss: 0.0295 - val_accuracy: 0.9910\n",
            "Epoch 5/10\n",
            "1875/1875 [==============================] - 10s 5ms/step - loss: 0.0233 - accuracy: 0.9932 - val_loss: 0.0303 - val_accuracy: 0.9916\n",
            "Epoch 6/10\n",
            "1875/1875 [==============================] - 10s 5ms/step - loss: 0.0184 - accuracy: 0.9950 - val_loss: 0.0446 - val_accuracy: 0.9903\n",
            "Epoch 7/10\n",
            "1875/1875 [==============================] - 10s 5ms/step - loss: 0.0160 - accuracy: 0.9956 - val_loss: 0.0420 - val_accuracy: 0.9914\n",
            "Epoch 8/10\n",
            "1875/1875 [==============================] - 10s 6ms/step - loss: 0.0149 - accuracy: 0.9963 - val_loss: 0.0327 - val_accuracy: 0.9935\n",
            "Epoch 9/10\n",
            "1875/1875 [==============================] - 10s 5ms/step - loss: 0.0137 - accuracy: 0.9963 - val_loss: 0.0527 - val_accuracy: 0.9924\n",
            "Epoch 10/10\n",
            "1875/1875 [==============================] - 9s 5ms/step - loss: 0.0130 - accuracy: 0.9970 - val_loss: 0.0490 - val_accuracy: 0.9912\n"
          ],
          "name": "stdout"
        }
      ]
    },
    {
      "cell_type": "code",
      "metadata": {
        "id": "vVvaplc82E3G",
        "colab": {
          "base_uri": "https://localhost:8080/"
        },
        "outputId": "54bf480e-eb8c-4914-b9f9-77baf89b4659"
      },
      "source": [
        "model3 = Sequential()\n",
        "model3.add(Conv2D(32, kernel_size=(3,3),activation='relu', input_shape=input_shape,padding='same'))\n",
        "model3.add(MaxPool2D(pool_size=(2,2)))\n",
        "model3.add(Conv2D(32,kernel_size=(3,3), activation='relu', padding='same'))\n",
        "model3.add(MaxPool2D(pool_size=(2,2)))\n",
        "model3.add(Conv2D(32,kernel_size=(3,3), activation='relu', padding='same'))\n",
        "model3.add(MaxPool2D(pool_size=(2,2)))\n",
        "model3.add(Flatten())\n",
        "model3.add(Dense(32, activation='relu'))\n",
        "model3.add(Dense(10, activation='softmax'))\n",
        "model3.summary()"
      ],
      "execution_count": 21,
      "outputs": [
        {
          "output_type": "stream",
          "text": [
            "Model: \"sequential_2\"\n",
            "_________________________________________________________________\n",
            "Layer (type)                 Output Shape              Param #   \n",
            "=================================================================\n",
            "conv2d_10 (Conv2D)           (None, 28, 28, 32)        320       \n",
            "_________________________________________________________________\n",
            "max_pooling2d_4 (MaxPooling2 (None, 14, 14, 32)        0         \n",
            "_________________________________________________________________\n",
            "conv2d_11 (Conv2D)           (None, 14, 14, 32)        9248      \n",
            "_________________________________________________________________\n",
            "max_pooling2d_5 (MaxPooling2 (None, 7, 7, 32)          0         \n",
            "_________________________________________________________________\n",
            "conv2d_12 (Conv2D)           (None, 7, 7, 32)          9248      \n",
            "_________________________________________________________________\n",
            "max_pooling2d_6 (MaxPooling2 (None, 3, 3, 32)          0         \n",
            "_________________________________________________________________\n",
            "flatten_2 (Flatten)          (None, 288)               0         \n",
            "_________________________________________________________________\n",
            "dense_4 (Dense)              (None, 32)                9248      \n",
            "_________________________________________________________________\n",
            "dense_5 (Dense)              (None, 10)                330       \n",
            "=================================================================\n",
            "Total params: 28,394\n",
            "Trainable params: 28,394\n",
            "Non-trainable params: 0\n",
            "_________________________________________________________________\n"
          ],
          "name": "stdout"
        }
      ]
    },
    {
      "cell_type": "code",
      "metadata": {
        "id": "pa53li7H47bf"
      },
      "source": [
        "model3.compile(optimizer='rmsprop', loss='categorical_crossentropy', metrics=['accuracy'])"
      ],
      "execution_count": 22,
      "outputs": []
    },
    {
      "cell_type": "code",
      "metadata": {
        "id": "gDg1k1Po4_JQ",
        "colab": {
          "base_uri": "https://localhost:8080/"
        },
        "outputId": "d7e9e752-6342-4f81-dccd-cf17c3882aa7"
      },
      "source": [
        "hist3 = model3.fit(X_train, y_train, batch_size=32, epochs=5, validation_data=(X_test, y_test), shuffle=True)"
      ],
      "execution_count": 24,
      "outputs": [
        {
          "output_type": "stream",
          "text": [
            "Epoch 1/5\n",
            "1875/1875 [==============================] - 10s 5ms/step - loss: 0.1921 - accuracy: 0.9387 - val_loss: 0.0581 - val_accuracy: 0.9813\n",
            "Epoch 2/5\n",
            "1875/1875 [==============================] - 9s 5ms/step - loss: 0.0557 - accuracy: 0.9827 - val_loss: 0.0414 - val_accuracy: 0.9872\n",
            "Epoch 3/5\n",
            "1875/1875 [==============================] - 9s 5ms/step - loss: 0.0393 - accuracy: 0.9883 - val_loss: 0.0374 - val_accuracy: 0.9879\n",
            "Epoch 4/5\n",
            "1875/1875 [==============================] - 9s 5ms/step - loss: 0.0304 - accuracy: 0.9903 - val_loss: 0.0342 - val_accuracy: 0.9899\n",
            "Epoch 5/5\n",
            "1875/1875 [==============================] - 9s 5ms/step - loss: 0.0254 - accuracy: 0.9919 - val_loss: 0.0340 - val_accuracy: 0.9908\n"
          ],
          "name": "stdout"
        }
      ]
    },
    {
      "cell_type": "markdown",
      "metadata": {
        "id": "UXDBdvnm5Clr"
      },
      "source": [
        "Arhitecture - 4"
      ]
    },
    {
      "cell_type": "code",
      "metadata": {
        "id": "5-gTvl1P5FMc",
        "colab": {
          "base_uri": "https://localhost:8080/"
        },
        "outputId": "2638222c-aca6-4fa0-b575-e191d4e8e16b"
      },
      "source": [
        "model4 = Sequential()\n",
        "model4.add(Conv2D(32, kernel_size=(3,3),activation='relu', input_shape=input_shape, padding='same', strides=(2, 2)))\n",
        "model4.add(Conv2D(32,kernel_size=(3,3), activation='relu', padding='same', strides=(2, 2)))\n",
        "model4.add(MaxPool2D(pool_size=(2,2)))\n",
        "model4.add(Conv2D(32,kernel_size=(3,3), activation='relu', padding='same', strides=(2, 2))) \n",
        "model4.add(Flatten())\n",
        "model4.add(Dense(10, activation='softmax'))\n",
        "model4.summary()"
      ],
      "execution_count": 25,
      "outputs": [
        {
          "output_type": "stream",
          "text": [
            "Model: \"sequential_3\"\n",
            "_________________________________________________________________\n",
            "Layer (type)                 Output Shape              Param #   \n",
            "=================================================================\n",
            "conv2d_13 (Conv2D)           (None, 14, 14, 32)        320       \n",
            "_________________________________________________________________\n",
            "conv2d_14 (Conv2D)           (None, 7, 7, 32)          9248      \n",
            "_________________________________________________________________\n",
            "max_pooling2d_7 (MaxPooling2 (None, 3, 3, 32)          0         \n",
            "_________________________________________________________________\n",
            "conv2d_15 (Conv2D)           (None, 2, 2, 32)          9248      \n",
            "_________________________________________________________________\n",
            "flatten_3 (Flatten)          (None, 128)               0         \n",
            "_________________________________________________________________\n",
            "dense_6 (Dense)              (None, 10)                1290      \n",
            "=================================================================\n",
            "Total params: 20,106\n",
            "Trainable params: 20,106\n",
            "Non-trainable params: 0\n",
            "_________________________________________________________________\n"
          ],
          "name": "stdout"
        }
      ]
    },
    {
      "cell_type": "code",
      "metadata": {
        "id": "eBTbaOd_5d26"
      },
      "source": [
        "model4.compile(optimizer='rmsprop', loss='categorical_crossentropy', metrics=['accuracy'])"
      ],
      "execution_count": 26,
      "outputs": []
    },
    {
      "cell_type": "code",
      "metadata": {
        "id": "-856Wz6r5ipv",
        "colab": {
          "base_uri": "https://localhost:8080/"
        },
        "outputId": "38afd491-39c0-40a8-a4a7-ee664e87e306"
      },
      "source": [
        "hist4 = model4.fit(X_train, y_train, batch_size=32, epochs=5, validation_data=(X_test, y_test), shuffle=True)"
      ],
      "execution_count": 27,
      "outputs": [
        {
          "output_type": "stream",
          "text": [
            "Epoch 1/5\n",
            "1875/1875 [==============================] - 8s 4ms/step - loss: 0.2677 - accuracy: 0.9178 - val_loss: 0.1003 - val_accuracy: 0.9693\n",
            "Epoch 2/5\n",
            "1875/1875 [==============================] - 7s 4ms/step - loss: 0.0961 - accuracy: 0.9699 - val_loss: 0.0779 - val_accuracy: 0.9749\n",
            "Epoch 3/5\n",
            "1875/1875 [==============================] - 7s 4ms/step - loss: 0.0703 - accuracy: 0.9772 - val_loss: 0.0582 - val_accuracy: 0.9812\n",
            "Epoch 4/5\n",
            "1875/1875 [==============================] - 7s 4ms/step - loss: 0.0562 - accuracy: 0.9822 - val_loss: 0.0557 - val_accuracy: 0.9817\n",
            "Epoch 5/5\n",
            "1875/1875 [==============================] - 7s 4ms/step - loss: 0.0476 - accuracy: 0.9851 - val_loss: 0.0462 - val_accuracy: 0.9842\n"
          ],
          "name": "stdout"
        }
      ]
    },
    {
      "cell_type": "markdown",
      "metadata": {
        "id": "OMHYUR_U5wVA"
      },
      "source": [
        "Architecture 5\n",
        "\n",
        "\n"
      ]
    },
    {
      "cell_type": "code",
      "metadata": {
        "id": "Iw2HoT6Y5u00",
        "colab": {
          "base_uri": "https://localhost:8080/"
        },
        "outputId": "6823e8ae-4cfd-48fb-d58f-4150a0dad3f3"
      },
      "source": [
        "model5 = Sequential()\n",
        "model5.add(Conv2D(32, kernel_size=(3,3),activation='relu', input_shape=input_shape, padding='same', strides=(2, 2)))\n",
        "model5.add(MaxPool2D(pool_size=(2,2)))\n",
        "model5.add(Conv2D(64,kernel_size=(3,3), activation='relu', padding='same', strides=(2, 2))) \n",
        "model5.add(Flatten())\n",
        "model3.add(Dense(32, activation='relu'))\n",
        "model5.add(Dense(10, activation='softmax'))\n",
        "model5.summary()"
      ],
      "execution_count": 28,
      "outputs": [
        {
          "output_type": "stream",
          "text": [
            "Model: \"sequential_4\"\n",
            "_________________________________________________________________\n",
            "Layer (type)                 Output Shape              Param #   \n",
            "=================================================================\n",
            "conv2d_16 (Conv2D)           (None, 14, 14, 32)        320       \n",
            "_________________________________________________________________\n",
            "max_pooling2d_8 (MaxPooling2 (None, 7, 7, 32)          0         \n",
            "_________________________________________________________________\n",
            "conv2d_17 (Conv2D)           (None, 4, 4, 64)          18496     \n",
            "_________________________________________________________________\n",
            "flatten_4 (Flatten)          (None, 1024)              0         \n",
            "_________________________________________________________________\n",
            "dense_8 (Dense)              (None, 10)                10250     \n",
            "=================================================================\n",
            "Total params: 29,066\n",
            "Trainable params: 29,066\n",
            "Non-trainable params: 0\n",
            "_________________________________________________________________\n"
          ],
          "name": "stdout"
        }
      ]
    },
    {
      "cell_type": "code",
      "metadata": {
        "id": "tF0j5fNf6Cqq"
      },
      "source": [
        "model5.compile(optimizer='rmsprop', loss='categorical_crossentropy', metrics=['accuracy'])"
      ],
      "execution_count": 29,
      "outputs": []
    },
    {
      "cell_type": "code",
      "metadata": {
        "id": "lnr2MX7C6Em6",
        "colab": {
          "base_uri": "https://localhost:8080/"
        },
        "outputId": "6b0ec1c2-3e4c-4703-aa09-18aad9cdd1dc"
      },
      "source": [
        "hist5 = model5.fit(X_train, y_train, batch_size=32, epochs=5, validation_data=(X_test, y_test), shuffle=True)"
      ],
      "execution_count": 30,
      "outputs": [
        {
          "output_type": "stream",
          "text": [
            "Epoch 1/5\n",
            "1875/1875 [==============================] - 8s 4ms/step - loss: 0.2559 - accuracy: 0.9246 - val_loss: 0.0938 - val_accuracy: 0.9709\n",
            "Epoch 2/5\n",
            "1875/1875 [==============================] - 8s 4ms/step - loss: 0.0884 - accuracy: 0.9732 - val_loss: 0.0659 - val_accuracy: 0.9782\n",
            "Epoch 3/5\n",
            "1875/1875 [==============================] - 7s 4ms/step - loss: 0.0642 - accuracy: 0.9807 - val_loss: 0.0523 - val_accuracy: 0.9826\n",
            "Epoch 4/5\n",
            "1875/1875 [==============================] - 8s 4ms/step - loss: 0.0514 - accuracy: 0.9844 - val_loss: 0.0489 - val_accuracy: 0.9843\n",
            "Epoch 5/5\n",
            "1875/1875 [==============================] - 8s 4ms/step - loss: 0.0435 - accuracy: 0.9870 - val_loss: 0.0488 - val_accuracy: 0.9843\n"
          ],
          "name": "stdout"
        }
      ]
    },
    {
      "cell_type": "markdown",
      "metadata": {
        "id": "zV_nZxUydBiw"
      },
      "source": [
        ""
      ]
    }
  ]
}