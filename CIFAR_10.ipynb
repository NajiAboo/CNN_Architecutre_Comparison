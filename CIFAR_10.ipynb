{
  "nbformat": 4,
  "nbformat_minor": 0,
  "metadata": {
    "colab": {
      "name": "CIFAR-10",
      "provenance": []
    },
    "kernelspec": {
      "name": "python3",
      "display_name": "Python 3"
    },
    "language_info": {
      "name": "python"
    },
    "accelerator": "GPU"
  },
  "cells": [
    {
      "cell_type": "code",
      "metadata": {
        "id": "eLiaQcjswyN5"
      },
      "source": [
        "import numpy as np\n",
        "import pandas as pd\n",
        "import matplotlib.pyplot as plt\n",
        "import keras\n",
        "from keras.datasets import cifar10"
      ],
      "execution_count": 3,
      "outputs": []
    },
    {
      "cell_type": "code",
      "metadata": {
        "colab": {
          "base_uri": "https://localhost:8080/"
        },
        "id": "VxGHcys9zt_A",
        "outputId": "12a01400-af4d-4557-f69f-aa47b7ce36ea"
      },
      "source": [
        "(X_train, y_train), (X_test,y_test) = cifar10.load_data()"
      ],
      "execution_count": 4,
      "outputs": [
        {
          "output_type": "stream",
          "text": [
            "Downloading data from https://www.cs.toronto.edu/~kriz/cifar-10-python.tar.gz\n",
            "170500096/170498071 [==============================] - 4s 0us/step\n",
            "170508288/170498071 [==============================] - 4s 0us/step\n"
          ],
          "name": "stdout"
        }
      ]
    },
    {
      "cell_type": "code",
      "metadata": {
        "colab": {
          "base_uri": "https://localhost:8080/"
        },
        "id": "64aD_6vRz5QT",
        "outputId": "26ba30c0-69ae-433b-ffb1-a42a982d943e"
      },
      "source": [
        "X_train.shape"
      ],
      "execution_count": 5,
      "outputs": [
        {
          "output_type": "execute_result",
          "data": {
            "text/plain": [
              "(50000, 32, 32, 3)"
            ]
          },
          "metadata": {
            "tags": []
          },
          "execution_count": 5
        }
      ]
    },
    {
      "cell_type": "code",
      "metadata": {
        "colab": {
          "base_uri": "https://localhost:8080/"
        },
        "id": "B8hx8Z1J0WLp",
        "outputId": "3d3afad1-89d0-4ca0-b653-1737dd6c6ed8"
      },
      "source": [
        "X_test.shape"
      ],
      "execution_count": 6,
      "outputs": [
        {
          "output_type": "execute_result",
          "data": {
            "text/plain": [
              "(10000, 32, 32, 3)"
            ]
          },
          "metadata": {
            "tags": []
          },
          "execution_count": 6
        }
      ]
    },
    {
      "cell_type": "code",
      "metadata": {
        "id": "_4_t1B2_0a_V"
      },
      "source": [
        "number_classes = 10\n",
        "input_shape = (32,32,3)\n"
      ],
      "execution_count": 7,
      "outputs": []
    },
    {
      "cell_type": "code",
      "metadata": {
        "id": "NoQbdh7i06tF"
      },
      "source": [
        "X_train = X_train.astype(np.float32) / 255\n",
        "X_test  = X_test.astype(np.float32) / 255"
      ],
      "execution_count": 8,
      "outputs": []
    },
    {
      "cell_type": "code",
      "metadata": {
        "id": "0omogA_TD9iH"
      },
      "source": [
        "from keras.utils import np_utils"
      ],
      "execution_count": 9,
      "outputs": []
    },
    {
      "cell_type": "code",
      "metadata": {
        "id": "ZHmAtPXwEGLN"
      },
      "source": [
        "y_train = np_utils.to_categorical(y_train)\n",
        "y_test  = np_utils.to_categorical(y_test)"
      ],
      "execution_count": 10,
      "outputs": []
    },
    {
      "cell_type": "code",
      "metadata": {
        "colab": {
          "base_uri": "https://localhost:8080/"
        },
        "id": "SiDbqXyn-oMs",
        "outputId": "8aca906f-90a6-4fb9-eab6-c8fad48e9140"
      },
      "source": [
        "X_train.shape"
      ],
      "execution_count": 11,
      "outputs": [
        {
          "output_type": "execute_result",
          "data": {
            "text/plain": [
              "(50000, 32, 32, 3)"
            ]
          },
          "metadata": {
            "tags": []
          },
          "execution_count": 11
        }
      ]
    },
    {
      "cell_type": "code",
      "metadata": {
        "id": "OOwBU3p91KBN"
      },
      "source": [
        "X_train = X_train.reshape(X_train.shape[0], 32,32,3)\n",
        "X_test  = X_test.reshape(X_test.shape[0], 32,32,3)\n",
        "\n"
      ],
      "execution_count": 12,
      "outputs": []
    },
    {
      "cell_type": "code",
      "metadata": {
        "id": "qITU8jF61yoA"
      },
      "source": [
        "from keras.layers import Conv2D, Dropout, Flatten, BatchNormalization, MaxPool2D,Dense\n",
        "from keras.models import Sequential"
      ],
      "execution_count": 13,
      "outputs": []
    },
    {
      "cell_type": "code",
      "metadata": {
        "id": "AnVM9wYe2Aal"
      },
      "source": [
        "model1 = Sequential()\n"
      ],
      "execution_count": 12,
      "outputs": []
    },
    {
      "cell_type": "code",
      "metadata": {
        "id": "YSSf3V212tbm"
      },
      "source": [
        "model1.add(Conv2D(filters=32, kernel_size=(3,3),activation='relu',input_shape=input_shape, padding='same' ))\n",
        "model1.add(Conv2D(filters=32, kernel_size=(3,3),activation='relu'))\n",
        "model1.add(Conv2D(filters=32, kernel_size=(3,3),activation='relu'))\n",
        "model1.add(MaxPool2D(pool_size=(2,2)))\n",
        "model1.add(Conv2D(filters=64, kernel_size=(3,3), activation='relu'))\n",
        "model1.add(Conv2D(filters=64, kernel_size=(3,3), activation='relu'))\n",
        "model1.add(Dropout(.2))\n",
        "model1.add(MaxPool2D(pool_size=(2,2)))\n",
        "model1.add(Conv2D(filters=128, kernel_size=(3,3), activation='relu'))\n",
        "model1.add(Conv2D(filters=128, kernel_size=(3,3), activation='relu'))\n",
        "\n",
        "model1.add(Flatten())\n",
        "\n",
        "model1.add(Dense(64, activation='relu'))\n",
        "model1.add(Dense(10, activation='softmax'))\n",
        "\n"
      ],
      "execution_count": 13,
      "outputs": []
    },
    {
      "cell_type": "code",
      "metadata": {
        "colab": {
          "base_uri": "https://localhost:8080/"
        },
        "id": "kJNeZcDa3XIG",
        "outputId": "4e7f2c56-98d8-477a-d851-55d037b41022"
      },
      "source": [
        "model1.summary()"
      ],
      "execution_count": 14,
      "outputs": [
        {
          "output_type": "stream",
          "text": [
            "Model: \"sequential\"\n",
            "_________________________________________________________________\n",
            "Layer (type)                 Output Shape              Param #   \n",
            "=================================================================\n",
            "conv2d (Conv2D)              (None, 32, 32, 32)        896       \n",
            "_________________________________________________________________\n",
            "conv2d_1 (Conv2D)            (None, 30, 30, 32)        9248      \n",
            "_________________________________________________________________\n",
            "conv2d_2 (Conv2D)            (None, 28, 28, 32)        9248      \n",
            "_________________________________________________________________\n",
            "max_pooling2d (MaxPooling2D) (None, 14, 14, 32)        0         \n",
            "_________________________________________________________________\n",
            "conv2d_3 (Conv2D)            (None, 12, 12, 64)        18496     \n",
            "_________________________________________________________________\n",
            "conv2d_4 (Conv2D)            (None, 10, 10, 64)        36928     \n",
            "_________________________________________________________________\n",
            "dropout (Dropout)            (None, 10, 10, 64)        0         \n",
            "_________________________________________________________________\n",
            "max_pooling2d_1 (MaxPooling2 (None, 5, 5, 64)          0         \n",
            "_________________________________________________________________\n",
            "conv2d_5 (Conv2D)            (None, 3, 3, 128)         73856     \n",
            "_________________________________________________________________\n",
            "conv2d_6 (Conv2D)            (None, 1, 1, 128)         147584    \n",
            "_________________________________________________________________\n",
            "flatten (Flatten)            (None, 128)               0         \n",
            "_________________________________________________________________\n",
            "dense (Dense)                (None, 64)                8256      \n",
            "_________________________________________________________________\n",
            "dense_1 (Dense)              (None, 10)                650       \n",
            "=================================================================\n",
            "Total params: 305,162\n",
            "Trainable params: 305,162\n",
            "Non-trainable params: 0\n",
            "_________________________________________________________________\n"
          ],
          "name": "stdout"
        }
      ]
    },
    {
      "cell_type": "code",
      "metadata": {
        "id": "k9vRK8K78fIe"
      },
      "source": [
        "model1.compile(optimizer='rmsprop',loss='categorical_crossentropy', metrics=['accuracy'])"
      ],
      "execution_count": 15,
      "outputs": []
    },
    {
      "cell_type": "code",
      "metadata": {
        "colab": {
          "base_uri": "https://localhost:8080/"
        },
        "id": "3eHuqgbR9NzJ",
        "outputId": "9b45a2b6-8785-4304-9c63-0210c1bb3c72"
      },
      "source": [
        "hist1 = model1.fit(X_train, y_train, batch_size=32, epochs=50, validation_data=(X_test, y_test), shuffle=True)"
      ],
      "execution_count": null,
      "outputs": [
        {
          "output_type": "stream",
          "text": [
            "Epoch 1/50\n",
            "1563/1563 [==============================] - 57s 8ms/step - loss: 1.9116 - accuracy: 0.2860 - val_loss: 1.2974 - val_accuracy: 0.5524\n",
            "Epoch 2/50\n",
            "1563/1563 [==============================] - 12s 7ms/step - loss: 1.2417 - accuracy: 0.5587 - val_loss: 1.0631 - val_accuracy: 0.6191\n",
            "Epoch 3/50\n",
            "1563/1563 [==============================] - 12s 8ms/step - loss: 0.9758 - accuracy: 0.6592 - val_loss: 1.0504 - val_accuracy: 0.6396\n",
            "Epoch 4/50\n",
            "1563/1563 [==============================] - 12s 7ms/step - loss: 0.8444 - accuracy: 0.7093 - val_loss: 0.9227 - val_accuracy: 0.7013\n",
            "Epoch 5/50\n",
            "1563/1563 [==============================] - 11s 7ms/step - loss: 0.7634 - accuracy: 0.7374 - val_loss: 0.8561 - val_accuracy: 0.7205\n",
            "Epoch 6/50\n",
            "1563/1563 [==============================] - 11s 7ms/step - loss: 0.7517 - accuracy: 0.7461 - val_loss: 0.8375 - val_accuracy: 0.7240\n",
            "Epoch 7/50\n",
            "1563/1563 [==============================] - 12s 7ms/step - loss: 0.7542 - accuracy: 0.7452 - val_loss: 1.1362 - val_accuracy: 0.6798\n",
            "Epoch 8/50\n",
            "1563/1563 [==============================] - 12s 8ms/step - loss: 0.7559 - accuracy: 0.7501 - val_loss: 0.9616 - val_accuracy: 0.6764\n",
            "Epoch 9/50\n",
            "1563/1563 [==============================] - 12s 8ms/step - loss: 0.7758 - accuracy: 0.7463 - val_loss: 0.9196 - val_accuracy: 0.7013\n",
            "Epoch 10/50\n",
            "1563/1563 [==============================] - 12s 7ms/step - loss: 0.7452 - accuracy: 0.7567 - val_loss: 0.9455 - val_accuracy: 0.6935\n",
            "Epoch 11/50\n",
            "1563/1563 [==============================] - 12s 8ms/step - loss: 0.7459 - accuracy: 0.7568 - val_loss: 1.7653 - val_accuracy: 0.7237\n",
            "Epoch 12/50\n",
            "1563/1563 [==============================] - 12s 8ms/step - loss: 0.7563 - accuracy: 0.7588 - val_loss: 0.8314 - val_accuracy: 0.7414\n",
            "Epoch 13/50\n",
            "1563/1563 [==============================] - 11s 7ms/step - loss: 0.7439 - accuracy: 0.7626 - val_loss: 1.4222 - val_accuracy: 0.7105\n",
            "Epoch 14/50\n",
            "1563/1563 [==============================] - 12s 7ms/step - loss: 0.7660 - accuracy: 0.7623 - val_loss: 0.9501 - val_accuracy: 0.7070\n",
            "Epoch 15/50\n",
            "1563/1563 [==============================] - 11s 7ms/step - loss: 0.7557 - accuracy: 0.7588 - val_loss: 0.9201 - val_accuracy: 0.7130\n",
            "Epoch 16/50\n",
            "1563/1563 [==============================] - 12s 8ms/step - loss: 0.7368 - accuracy: 0.7652 - val_loss: 0.9629 - val_accuracy: 0.7515\n",
            "Epoch 17/50\n",
            "1563/1563 [==============================] - 12s 8ms/step - loss: 0.7449 - accuracy: 0.7650 - val_loss: 0.9850 - val_accuracy: 0.7451\n",
            "Epoch 18/50\n",
            "1563/1563 [==============================] - 12s 8ms/step - loss: 0.7405 - accuracy: 0.7647 - val_loss: 1.4901 - val_accuracy: 0.6749\n",
            "Epoch 19/50\n",
            "1563/1563 [==============================] - 12s 8ms/step - loss: 0.8365 - accuracy: 0.7579 - val_loss: 1.1738 - val_accuracy: 0.7053\n",
            "Epoch 20/50\n",
            "1563/1563 [==============================] - 12s 8ms/step - loss: 0.7414 - accuracy: 0.7674 - val_loss: 0.8894 - val_accuracy: 0.7313\n",
            "Epoch 21/50\n",
            "1563/1563 [==============================] - 12s 8ms/step - loss: 0.8032 - accuracy: 0.7655 - val_loss: 1.1414 - val_accuracy: 0.7355\n",
            "Epoch 22/50\n",
            "1563/1563 [==============================] - 12s 8ms/step - loss: 0.7318 - accuracy: 0.7742 - val_loss: 1.1677 - val_accuracy: 0.7350\n",
            "Epoch 23/50\n",
            "1563/1563 [==============================] - 12s 8ms/step - loss: 0.7542 - accuracy: 0.7684 - val_loss: 0.8863 - val_accuracy: 0.7355\n",
            "Epoch 24/50\n",
            "1563/1563 [==============================] - 12s 7ms/step - loss: 0.8107 - accuracy: 0.7613 - val_loss: 1.2943 - val_accuracy: 0.6875\n",
            "Epoch 25/50\n",
            "1563/1563 [==============================] - 11s 7ms/step - loss: 0.7971 - accuracy: 0.7632 - val_loss: 1.1549 - val_accuracy: 0.7072\n",
            "Epoch 26/50\n",
            "1563/1563 [==============================] - 11s 7ms/step - loss: 0.8244 - accuracy: 0.7633 - val_loss: 1.1124 - val_accuracy: 0.7123\n",
            "Epoch 27/50\n",
            "1563/1563 [==============================] - 12s 7ms/step - loss: 0.8656 - accuracy: 0.7565 - val_loss: 1.3653 - val_accuracy: 0.5824\n",
            "Epoch 28/50\n",
            "1563/1563 [==============================] - 12s 8ms/step - loss: 0.8325 - accuracy: 0.7541 - val_loss: 1.0919 - val_accuracy: 0.7223\n",
            "Epoch 29/50\n",
            "1563/1563 [==============================] - 12s 8ms/step - loss: 1.1953 - accuracy: 0.7517 - val_loss: 1.2475 - val_accuracy: 0.6978\n",
            "Epoch 30/50\n",
            "1563/1563 [==============================] - 12s 7ms/step - loss: 1.2090 - accuracy: 0.7567 - val_loss: 1.2396 - val_accuracy: 0.6655\n",
            "Epoch 31/50\n",
            "1563/1563 [==============================] - 12s 7ms/step - loss: 0.9305 - accuracy: 0.7434 - val_loss: 1.1993 - val_accuracy: 0.7041\n",
            "Epoch 32/50\n",
            "1563/1563 [==============================] - 11s 7ms/step - loss: 0.9897 - accuracy: 0.7493 - val_loss: 1.8167 - val_accuracy: 0.7443\n",
            "Epoch 33/50\n",
            "1563/1563 [==============================] - 12s 8ms/step - loss: 1.2184 - accuracy: 0.7343 - val_loss: 1.3457 - val_accuracy: 0.6283\n",
            "Epoch 34/50\n",
            "1563/1563 [==============================] - 13s 8ms/step - loss: 1.0340 - accuracy: 0.7346 - val_loss: 1.9081 - val_accuracy: 0.5770\n",
            "Epoch 35/50\n",
            "1563/1563 [==============================] - 12s 8ms/step - loss: 1.0134 - accuracy: 0.7205 - val_loss: 1.2190 - val_accuracy: 0.6467\n",
            "Epoch 36/50\n",
            "1563/1563 [==============================] - 12s 8ms/step - loss: 1.2114 - accuracy: 0.7314 - val_loss: 1.0464 - val_accuracy: 0.6784\n",
            "Epoch 37/50\n",
            "1563/1563 [==============================] - 12s 8ms/step - loss: 1.0573 - accuracy: 0.7385 - val_loss: 1.0825 - val_accuracy: 0.6568\n",
            "Epoch 38/50\n",
            "1563/1563 [==============================] - 12s 8ms/step - loss: 0.9566 - accuracy: 0.7377 - val_loss: 1.2254 - val_accuracy: 0.5689\n",
            "Epoch 39/50\n",
            "1563/1563 [==============================] - 12s 8ms/step - loss: 1.3116 - accuracy: 0.7024 - val_loss: 1.2819 - val_accuracy: 0.7231\n",
            "Epoch 40/50\n",
            "1563/1563 [==============================] - 12s 8ms/step - loss: 3.2656 - accuracy: 0.6966 - val_loss: 5117.9971 - val_accuracy: 0.3464\n",
            "Epoch 41/50\n",
            "1563/1563 [==============================] - 12s 8ms/step - loss: 17.9911 - accuracy: 0.6977 - val_loss: 1.5637 - val_accuracy: 0.4790\n",
            "Epoch 42/50\n",
            "1409/1563 [==========================>...] - ETA: 1:31 - loss: 1.4537 - accuracy: 0.6777"
          ],
          "name": "stdout"
        }
      ]
    },
    {
      "cell_type": "code",
      "metadata": {
        "id": "5_k4pmiJFzp6"
      },
      "source": [
        "model2 = Sequential()\n"
      ],
      "execution_count": 14,
      "outputs": []
    },
    {
      "cell_type": "code",
      "metadata": {
        "id": "6S2zA25UF1Pv"
      },
      "source": [
        "model2.add(Conv2D(filters=32, kernel_size=(3,3),activation='relu',input_shape=input_shape, padding='same' ))\n",
        "model2.add(Conv2D(filters=32, kernel_size=(3,3),activation='relu',input_shape=input_shape, padding='same' ))\n",
        "model2.add(Conv2D(filters=32, kernel_size=(3,3),activation='relu'))\n",
        "model2.add(Conv2D(filters=32, kernel_size=(3,3),activation='relu'))\n",
        "model2.add(MaxPool2D(pool_size=(2,2)))\n",
        "model2.add(Conv2D(filters=64, kernel_size=(3,3), activation='relu'))\n",
        "model2.add(Conv2D(filters=64, kernel_size=(3,3), activation='relu'))\n",
        "model2.add(Dropout(.2))\n",
        "model2.add(MaxPool2D(pool_size=(2,2)))\n",
        "model2.add(Conv2D(filters=128, kernel_size=(3,3), activation='relu'))\n",
        "model2.add(Conv2D(filters=128, kernel_size=(3,3), activation='relu'))\n",
        "\n",
        "model2.add(Flatten())\n",
        "\n",
        "model2.add(Dense(64, activation='relu'))\n",
        "model2.add(Dense(10, activation='softmax'))"
      ],
      "execution_count": 15,
      "outputs": []
    },
    {
      "cell_type": "code",
      "metadata": {
        "colab": {
          "base_uri": "https://localhost:8080/"
        },
        "id": "wcMehRdHsng2",
        "outputId": "9c2df8c3-c4b8-47e8-8dc8-e5fd29f5332b"
      },
      "source": [
        "model2.summary()"
      ],
      "execution_count": 34,
      "outputs": [
        {
          "output_type": "stream",
          "text": [
            "Model: \"sequential\"\n",
            "_________________________________________________________________\n",
            "Layer (type)                 Output Shape              Param #   \n",
            "=================================================================\n",
            "conv2d (Conv2D)              (None, 32, 32, 32)        896       \n",
            "_________________________________________________________________\n",
            "conv2d_1 (Conv2D)            (None, 32, 32, 32)        9248      \n",
            "_________________________________________________________________\n",
            "conv2d_2 (Conv2D)            (None, 30, 30, 32)        9248      \n",
            "_________________________________________________________________\n",
            "conv2d_3 (Conv2D)            (None, 28, 28, 32)        9248      \n",
            "_________________________________________________________________\n",
            "max_pooling2d (MaxPooling2D) (None, 14, 14, 32)        0         \n",
            "_________________________________________________________________\n",
            "conv2d_4 (Conv2D)            (None, 12, 12, 64)        18496     \n",
            "_________________________________________________________________\n",
            "conv2d_5 (Conv2D)            (None, 10, 10, 64)        36928     \n",
            "_________________________________________________________________\n",
            "dropout (Dropout)            (None, 10, 10, 64)        0         \n",
            "_________________________________________________________________\n",
            "max_pooling2d_1 (MaxPooling2 (None, 5, 5, 64)          0         \n",
            "_________________________________________________________________\n",
            "conv2d_6 (Conv2D)            (None, 3, 3, 128)         73856     \n",
            "_________________________________________________________________\n",
            "conv2d_7 (Conv2D)            (None, 1, 1, 128)         147584    \n",
            "_________________________________________________________________\n",
            "flatten (Flatten)            (None, 128)               0         \n",
            "_________________________________________________________________\n",
            "dense (Dense)                (None, 64)                8256      \n",
            "_________________________________________________________________\n",
            "dense_1 (Dense)              (None, 10)                650       \n",
            "=================================================================\n",
            "Total params: 314,410\n",
            "Trainable params: 314,410\n",
            "Non-trainable params: 0\n",
            "_________________________________________________________________\n"
          ],
          "name": "stdout"
        }
      ]
    },
    {
      "cell_type": "code",
      "metadata": {
        "id": "wxhL0nzWGEyZ"
      },
      "source": [
        "model2.compile(optimizer='adam',loss='categorical_crossentropy', metrics=['accuracy'])"
      ],
      "execution_count": 16,
      "outputs": []
    },
    {
      "cell_type": "code",
      "metadata": {
        "colab": {
          "base_uri": "https://localhost:8080/"
        },
        "id": "a5jtgpSbGI6-",
        "outputId": "f9129e45-7de1-43a7-98b9-e318b2b33bac"
      },
      "source": [
        "hist2 = model2.fit(X_train, y_train, batch_size=32, epochs=50, validation_data=(X_test, y_test), shuffle=True)"
      ],
      "execution_count": 17,
      "outputs": [
        {
          "output_type": "stream",
          "text": [
            "Epoch 1/50\n",
            "1563/1563 [==============================] - 56s 7ms/step - loss: 1.8826 - accuracy: 0.3001 - val_loss: 1.4121 - val_accuracy: 0.4892\n",
            "Epoch 2/50\n",
            "1563/1563 [==============================] - 11s 7ms/step - loss: 1.2862 - accuracy: 0.5384 - val_loss: 1.1723 - val_accuracy: 0.5819\n",
            "Epoch 3/50\n",
            "1563/1563 [==============================] - 10s 7ms/step - loss: 1.0429 - accuracy: 0.6250 - val_loss: 1.0110 - val_accuracy: 0.6480\n",
            "Epoch 4/50\n",
            "1563/1563 [==============================] - 11s 7ms/step - loss: 0.9019 - accuracy: 0.6790 - val_loss: 0.9448 - val_accuracy: 0.6698\n",
            "Epoch 5/50\n",
            "1563/1563 [==============================] - 10s 7ms/step - loss: 0.7974 - accuracy: 0.7146 - val_loss: 0.8423 - val_accuracy: 0.6996\n",
            "Epoch 6/50\n",
            "1563/1563 [==============================] - 10s 6ms/step - loss: 0.7053 - accuracy: 0.7509 - val_loss: 0.8399 - val_accuracy: 0.7071\n",
            "Epoch 7/50\n",
            "1563/1563 [==============================] - 10s 6ms/step - loss: 0.6461 - accuracy: 0.7726 - val_loss: 0.8037 - val_accuracy: 0.7235\n",
            "Epoch 8/50\n",
            "1563/1563 [==============================] - 11s 7ms/step - loss: 0.5938 - accuracy: 0.7888 - val_loss: 0.7572 - val_accuracy: 0.7421\n",
            "Epoch 9/50\n",
            "1563/1563 [==============================] - 11s 7ms/step - loss: 0.5519 - accuracy: 0.8063 - val_loss: 0.7706 - val_accuracy: 0.7378\n",
            "Epoch 10/50\n",
            "1563/1563 [==============================] - 10s 7ms/step - loss: 0.5078 - accuracy: 0.8187 - val_loss: 0.7655 - val_accuracy: 0.7410\n",
            "Epoch 11/50\n",
            "1563/1563 [==============================] - 11s 7ms/step - loss: 0.4741 - accuracy: 0.8326 - val_loss: 0.7864 - val_accuracy: 0.7384\n",
            "Epoch 12/50\n",
            "1563/1563 [==============================] - 10s 7ms/step - loss: 0.4485 - accuracy: 0.8444 - val_loss: 0.8056 - val_accuracy: 0.7323\n",
            "Epoch 13/50\n",
            "1563/1563 [==============================] - 11s 7ms/step - loss: 0.4187 - accuracy: 0.8517 - val_loss: 0.8036 - val_accuracy: 0.7439\n",
            "Epoch 14/50\n",
            "1563/1563 [==============================] - 11s 7ms/step - loss: 0.3834 - accuracy: 0.8623 - val_loss: 0.8299 - val_accuracy: 0.7349\n",
            "Epoch 15/50\n",
            "1563/1563 [==============================] - 11s 7ms/step - loss: 0.3677 - accuracy: 0.8706 - val_loss: 0.8414 - val_accuracy: 0.7419\n",
            "Epoch 16/50\n",
            "1563/1563 [==============================] - 11s 7ms/step - loss: 0.3395 - accuracy: 0.8799 - val_loss: 0.8631 - val_accuracy: 0.7218\n",
            "Epoch 17/50\n",
            "1563/1563 [==============================] - 11s 7ms/step - loss: 0.3308 - accuracy: 0.8832 - val_loss: 0.8828 - val_accuracy: 0.7342\n",
            "Epoch 18/50\n",
            "1563/1563 [==============================] - 11s 7ms/step - loss: 0.3094 - accuracy: 0.8882 - val_loss: 0.8577 - val_accuracy: 0.7425\n",
            "Epoch 19/50\n",
            "1563/1563 [==============================] - 11s 7ms/step - loss: 0.2980 - accuracy: 0.8949 - val_loss: 0.8742 - val_accuracy: 0.7399\n",
            "Epoch 20/50\n",
            "1563/1563 [==============================] - 11s 7ms/step - loss: 0.2874 - accuracy: 0.8993 - val_loss: 0.9078 - val_accuracy: 0.7404\n",
            "Epoch 21/50\n",
            "1563/1563 [==============================] - 11s 7ms/step - loss: 0.2767 - accuracy: 0.9018 - val_loss: 0.9113 - val_accuracy: 0.7472\n",
            "Epoch 22/50\n",
            "1563/1563 [==============================] - 11s 7ms/step - loss: 0.2598 - accuracy: 0.9094 - val_loss: 0.9108 - val_accuracy: 0.7447\n",
            "Epoch 23/50\n",
            "1563/1563 [==============================] - 11s 7ms/step - loss: 0.2579 - accuracy: 0.9080 - val_loss: 0.9933 - val_accuracy: 0.7397\n",
            "Epoch 24/50\n",
            "1563/1563 [==============================] - 11s 7ms/step - loss: 0.2559 - accuracy: 0.9092 - val_loss: 1.0170 - val_accuracy: 0.7369\n",
            "Epoch 25/50\n",
            "1563/1563 [==============================] - 11s 7ms/step - loss: 0.2418 - accuracy: 0.9157 - val_loss: 1.0043 - val_accuracy: 0.7395\n",
            "Epoch 26/50\n",
            "1563/1563 [==============================] - 10s 7ms/step - loss: 0.2328 - accuracy: 0.9187 - val_loss: 0.9389 - val_accuracy: 0.7458\n",
            "Epoch 27/50\n",
            "1563/1563 [==============================] - 11s 7ms/step - loss: 0.2202 - accuracy: 0.9226 - val_loss: 0.9948 - val_accuracy: 0.7374\n",
            "Epoch 28/50\n",
            "1563/1563 [==============================] - 11s 7ms/step - loss: 0.2104 - accuracy: 0.9266 - val_loss: 0.9917 - val_accuracy: 0.7476\n",
            "Epoch 29/50\n",
            "1563/1563 [==============================] - 11s 7ms/step - loss: 0.2034 - accuracy: 0.9293 - val_loss: 1.0897 - val_accuracy: 0.7342\n",
            "Epoch 30/50\n",
            "1563/1563 [==============================] - 11s 7ms/step - loss: 0.2100 - accuracy: 0.9243 - val_loss: 1.0949 - val_accuracy: 0.7432\n",
            "Epoch 31/50\n",
            "1563/1563 [==============================] - 11s 7ms/step - loss: 0.1958 - accuracy: 0.9336 - val_loss: 1.0263 - val_accuracy: 0.7405\n",
            "Epoch 32/50\n",
            "1563/1563 [==============================] - 10s 7ms/step - loss: 0.1883 - accuracy: 0.9345 - val_loss: 1.0511 - val_accuracy: 0.7376\n",
            "Epoch 33/50\n",
            "1563/1563 [==============================] - 10s 6ms/step - loss: 0.1950 - accuracy: 0.9346 - val_loss: 1.0070 - val_accuracy: 0.7422\n",
            "Epoch 34/50\n",
            "1563/1563 [==============================] - 11s 7ms/step - loss: 0.1744 - accuracy: 0.9396 - val_loss: 1.0517 - val_accuracy: 0.7419\n",
            "Epoch 35/50\n",
            "1563/1563 [==============================] - 10s 7ms/step - loss: 0.1681 - accuracy: 0.9415 - val_loss: 1.1219 - val_accuracy: 0.7417\n",
            "Epoch 36/50\n",
            "1563/1563 [==============================] - 10s 7ms/step - loss: 0.1797 - accuracy: 0.9372 - val_loss: 1.0493 - val_accuracy: 0.7490\n",
            "Epoch 37/50\n",
            "1563/1563 [==============================] - 11s 7ms/step - loss: 0.1695 - accuracy: 0.9426 - val_loss: 1.1194 - val_accuracy: 0.7364\n",
            "Epoch 38/50\n",
            "1563/1563 [==============================] - 10s 7ms/step - loss: 0.1708 - accuracy: 0.9416 - val_loss: 1.0532 - val_accuracy: 0.7467\n",
            "Epoch 39/50\n",
            "1563/1563 [==============================] - 11s 7ms/step - loss: 0.1702 - accuracy: 0.9417 - val_loss: 1.0559 - val_accuracy: 0.7451\n",
            "Epoch 40/50\n",
            "1563/1563 [==============================] - 11s 7ms/step - loss: 0.1653 - accuracy: 0.9444 - val_loss: 1.0863 - val_accuracy: 0.7393\n",
            "Epoch 41/50\n",
            "1563/1563 [==============================] - 11s 7ms/step - loss: 0.1657 - accuracy: 0.9448 - val_loss: 1.1141 - val_accuracy: 0.7438\n",
            "Epoch 42/50\n",
            "1563/1563 [==============================] - 10s 7ms/step - loss: 0.1640 - accuracy: 0.9461 - val_loss: 1.0908 - val_accuracy: 0.7467\n",
            "Epoch 43/50\n",
            "1563/1563 [==============================] - 11s 7ms/step - loss: 0.1608 - accuracy: 0.9458 - val_loss: 1.1154 - val_accuracy: 0.7427\n",
            "Epoch 44/50\n",
            "1563/1563 [==============================] - 11s 7ms/step - loss: 0.1614 - accuracy: 0.9459 - val_loss: 1.1234 - val_accuracy: 0.7420\n",
            "Epoch 45/50\n",
            "1563/1563 [==============================] - 10s 7ms/step - loss: 0.1454 - accuracy: 0.9513 - val_loss: 1.0812 - val_accuracy: 0.7420\n",
            "Epoch 46/50\n",
            "1563/1563 [==============================] - 11s 7ms/step - loss: 0.1569 - accuracy: 0.9463 - val_loss: 1.1873 - val_accuracy: 0.7442\n",
            "Epoch 47/50\n",
            "1563/1563 [==============================] - 11s 7ms/step - loss: 0.1486 - accuracy: 0.9501 - val_loss: 1.2085 - val_accuracy: 0.7420\n",
            "Epoch 48/50\n",
            "1563/1563 [==============================] - 11s 7ms/step - loss: 0.1474 - accuracy: 0.9514 - val_loss: 1.1464 - val_accuracy: 0.7365\n",
            "Epoch 49/50\n",
            "1563/1563 [==============================] - 11s 7ms/step - loss: 0.1502 - accuracy: 0.9500 - val_loss: 1.1540 - val_accuracy: 0.7457\n",
            "Epoch 50/50\n",
            "1563/1563 [==============================] - 10s 6ms/step - loss: 0.1438 - accuracy: 0.9518 - val_loss: 1.1143 - val_accuracy: 0.7426\n"
          ],
          "name": "stdout"
        }
      ]
    },
    {
      "cell_type": "code",
      "metadata": {
        "id": "QpoZOjrvGtk0"
      },
      "source": [
        "model3 = Sequential()\n"
      ],
      "execution_count": 18,
      "outputs": []
    },
    {
      "cell_type": "code",
      "metadata": {
        "id": "TIwvkeNaG3xS"
      },
      "source": [
        "model3.add(Conv2D(filters=32, kernel_size=(3,3),activation='LeakyReLU',input_shape=input_shape, padding='same' ))\n",
        "model3.add(Conv2D(filters=32, kernel_size=(3,3),activation='LeakyReLU',input_shape=input_shape, padding='same' ))\n",
        "model3.add(Conv2D(filters=32, kernel_size=(3,3),activation='LeakyReLU'))\n",
        "model3.add(Conv2D(filters=32, kernel_size=(3,3),activation='LeakyReLU'))\n",
        "model3.add(MaxPool2D(pool_size=(2,2)))\n",
        "model3.add(Conv2D(filters=64, kernel_size=(3,3), activation='LeakyReLU'))\n",
        "model3.add(Conv2D(filters=64, kernel_size=(3,3), activation='LeakyReLU'))\n",
        "model3.add(Dropout(.2))\n",
        "model3.add(MaxPool2D(pool_size=(2,2)))\n",
        "model3.add(Conv2D(filters=128, kernel_size=(3,3), activation='LeakyReLU'))\n",
        "model3.add(Conv2D(filters=128, kernel_size=(3,3), activation='LeakyReLU'))\n",
        "\n",
        "model3.add(Flatten())\n",
        "\n",
        "model3.add(Dense(64, activation='relu'))\n",
        "model3.add(Dense(10, activation='softmax'))"
      ],
      "execution_count": 19,
      "outputs": []
    },
    {
      "cell_type": "code",
      "metadata": {
        "id": "YSIlPQPrHwef"
      },
      "source": [
        "model3.compile(optimizer='adam',loss='categorical_crossentropy', metrics=['accuracy'])"
      ],
      "execution_count": 20,
      "outputs": []
    },
    {
      "cell_type": "code",
      "metadata": {
        "colab": {
          "base_uri": "https://localhost:8080/"
        },
        "id": "ADrZz4MutDP_",
        "outputId": "a1f84cb6-df52-4ce5-fb34-ad6ad72f8298"
      },
      "source": [
        "model3.summary()"
      ],
      "execution_count": 35,
      "outputs": [
        {
          "output_type": "stream",
          "text": [
            "Model: \"sequential_1\"\n",
            "_________________________________________________________________\n",
            "Layer (type)                 Output Shape              Param #   \n",
            "=================================================================\n",
            "conv2d_8 (Conv2D)            (None, 32, 32, 32)        896       \n",
            "_________________________________________________________________\n",
            "conv2d_9 (Conv2D)            (None, 32, 32, 32)        9248      \n",
            "_________________________________________________________________\n",
            "conv2d_10 (Conv2D)           (None, 30, 30, 32)        9248      \n",
            "_________________________________________________________________\n",
            "conv2d_11 (Conv2D)           (None, 28, 28, 32)        9248      \n",
            "_________________________________________________________________\n",
            "max_pooling2d_2 (MaxPooling2 (None, 14, 14, 32)        0         \n",
            "_________________________________________________________________\n",
            "conv2d_12 (Conv2D)           (None, 12, 12, 64)        18496     \n",
            "_________________________________________________________________\n",
            "conv2d_13 (Conv2D)           (None, 10, 10, 64)        36928     \n",
            "_________________________________________________________________\n",
            "dropout_1 (Dropout)          (None, 10, 10, 64)        0         \n",
            "_________________________________________________________________\n",
            "max_pooling2d_3 (MaxPooling2 (None, 5, 5, 64)          0         \n",
            "_________________________________________________________________\n",
            "conv2d_14 (Conv2D)           (None, 3, 3, 128)         73856     \n",
            "_________________________________________________________________\n",
            "conv2d_15 (Conv2D)           (None, 1, 1, 128)         147584    \n",
            "_________________________________________________________________\n",
            "flatten_1 (Flatten)          (None, 128)               0         \n",
            "_________________________________________________________________\n",
            "dense_2 (Dense)              (None, 64)                8256      \n",
            "_________________________________________________________________\n",
            "dense_3 (Dense)              (None, 10)                650       \n",
            "=================================================================\n",
            "Total params: 314,410\n",
            "Trainable params: 314,410\n",
            "Non-trainable params: 0\n",
            "_________________________________________________________________\n"
          ],
          "name": "stdout"
        }
      ]
    },
    {
      "cell_type": "code",
      "metadata": {
        "colab": {
          "base_uri": "https://localhost:8080/"
        },
        "id": "YHGzIgj7HzhM",
        "outputId": "0f660769-81a1-4557-aedd-3c5667c0ac5f"
      },
      "source": [
        "hist3 = model3.fit(X_train, y_train, batch_size=32, epochs=50, validation_data=(X_test, y_test), shuffle=True)"
      ],
      "execution_count": 21,
      "outputs": [
        {
          "output_type": "stream",
          "text": [
            "Epoch 1/50\n",
            "1563/1563 [==============================] - 14s 8ms/step - loss: 1.7148 - accuracy: 0.3634 - val_loss: 1.1449 - val_accuracy: 0.6026\n",
            "Epoch 2/50\n",
            "1563/1563 [==============================] - 11s 7ms/step - loss: 1.0079 - accuracy: 0.6447 - val_loss: 1.0654 - val_accuracy: 0.6470\n",
            "Epoch 3/50\n",
            "1563/1563 [==============================] - 11s 7ms/step - loss: 0.8257 - accuracy: 0.7096 - val_loss: 1.0067 - val_accuracy: 0.6850\n",
            "Epoch 4/50\n",
            "1563/1563 [==============================] - 11s 7ms/step - loss: 0.7274 - accuracy: 0.7441 - val_loss: 0.9336 - val_accuracy: 0.6967\n",
            "Epoch 5/50\n",
            "1563/1563 [==============================] - 11s 7ms/step - loss: 0.6491 - accuracy: 0.7721 - val_loss: 0.7758 - val_accuracy: 0.7405\n",
            "Epoch 6/50\n",
            "1563/1563 [==============================] - 11s 7ms/step - loss: 0.6130 - accuracy: 0.7893 - val_loss: 0.8296 - val_accuracy: 0.7343\n",
            "Epoch 7/50\n",
            "1563/1563 [==============================] - 11s 7ms/step - loss: 0.5631 - accuracy: 0.8027 - val_loss: 0.7881 - val_accuracy: 0.7441\n",
            "Epoch 8/50\n",
            "1563/1563 [==============================] - 11s 7ms/step - loss: 0.5323 - accuracy: 0.8117 - val_loss: 0.8707 - val_accuracy: 0.7359\n",
            "Epoch 9/50\n",
            "1563/1563 [==============================] - 11s 7ms/step - loss: 0.5031 - accuracy: 0.8230 - val_loss: 0.8225 - val_accuracy: 0.7497\n",
            "Epoch 10/50\n",
            "1563/1563 [==============================] - 11s 7ms/step - loss: 0.4733 - accuracy: 0.8361 - val_loss: 0.8357 - val_accuracy: 0.7473\n",
            "Epoch 11/50\n",
            "1563/1563 [==============================] - 11s 7ms/step - loss: 0.4561 - accuracy: 0.8418 - val_loss: 0.7690 - val_accuracy: 0.7685\n",
            "Epoch 12/50\n",
            "1563/1563 [==============================] - 11s 7ms/step - loss: 0.4275 - accuracy: 0.8473 - val_loss: 0.7932 - val_accuracy: 0.7675\n",
            "Epoch 13/50\n",
            "1563/1563 [==============================] - 11s 7ms/step - loss: 0.4125 - accuracy: 0.8534 - val_loss: 0.8755 - val_accuracy: 0.7475\n",
            "Epoch 14/50\n",
            "1563/1563 [==============================] - 11s 7ms/step - loss: 0.4032 - accuracy: 0.8603 - val_loss: 0.7950 - val_accuracy: 0.7723\n",
            "Epoch 15/50\n",
            "1563/1563 [==============================] - 11s 7ms/step - loss: 0.3786 - accuracy: 0.8678 - val_loss: 0.7843 - val_accuracy: 0.7730\n",
            "Epoch 16/50\n",
            "1563/1563 [==============================] - 11s 7ms/step - loss: 0.3692 - accuracy: 0.8713 - val_loss: 0.9124 - val_accuracy: 0.7571\n",
            "Epoch 17/50\n",
            "1563/1563 [==============================] - 11s 7ms/step - loss: 0.3554 - accuracy: 0.8754 - val_loss: 0.8227 - val_accuracy: 0.7731\n",
            "Epoch 18/50\n",
            "1563/1563 [==============================] - 11s 7ms/step - loss: 0.3363 - accuracy: 0.8802 - val_loss: 0.8601 - val_accuracy: 0.7683\n",
            "Epoch 19/50\n",
            "1563/1563 [==============================] - 11s 7ms/step - loss: 0.3371 - accuracy: 0.8825 - val_loss: 0.8826 - val_accuracy: 0.7614\n",
            "Epoch 20/50\n",
            "1563/1563 [==============================] - 11s 7ms/step - loss: 0.3211 - accuracy: 0.8850 - val_loss: 0.9868 - val_accuracy: 0.7620\n",
            "Epoch 21/50\n",
            "1563/1563 [==============================] - 10s 7ms/step - loss: 0.3174 - accuracy: 0.8887 - val_loss: 0.8971 - val_accuracy: 0.7633\n",
            "Epoch 22/50\n",
            "1563/1563 [==============================] - 11s 7ms/step - loss: 0.3141 - accuracy: 0.8920 - val_loss: 0.9397 - val_accuracy: 0.7749\n",
            "Epoch 23/50\n",
            "1563/1563 [==============================] - 11s 7ms/step - loss: 0.3070 - accuracy: 0.8947 - val_loss: 0.9063 - val_accuracy: 0.7760\n",
            "Epoch 24/50\n",
            "1563/1563 [==============================] - 11s 7ms/step - loss: 0.2954 - accuracy: 0.8972 - val_loss: 0.9268 - val_accuracy: 0.7746\n",
            "Epoch 25/50\n",
            "1563/1563 [==============================] - 11s 7ms/step - loss: 0.2865 - accuracy: 0.9000 - val_loss: 0.9855 - val_accuracy: 0.7739\n",
            "Epoch 26/50\n",
            "1563/1563 [==============================] - 11s 7ms/step - loss: 0.2855 - accuracy: 0.9004 - val_loss: 0.9962 - val_accuracy: 0.7591\n",
            "Epoch 27/50\n",
            "1563/1563 [==============================] - 10s 7ms/step - loss: 0.2867 - accuracy: 0.9023 - val_loss: 0.9206 - val_accuracy: 0.7802\n",
            "Epoch 28/50\n",
            "1563/1563 [==============================] - 11s 7ms/step - loss: 0.2730 - accuracy: 0.9049 - val_loss: 1.0835 - val_accuracy: 0.7636\n",
            "Epoch 29/50\n",
            "1563/1563 [==============================] - 11s 7ms/step - loss: 0.2681 - accuracy: 0.9062 - val_loss: 0.9297 - val_accuracy: 0.7731\n",
            "Epoch 30/50\n",
            "1563/1563 [==============================] - 11s 7ms/step - loss: 0.2625 - accuracy: 0.9099 - val_loss: 0.9597 - val_accuracy: 0.7665\n",
            "Epoch 31/50\n",
            "1563/1563 [==============================] - 11s 7ms/step - loss: 0.2698 - accuracy: 0.9080 - val_loss: 1.0762 - val_accuracy: 0.7689\n",
            "Epoch 32/50\n",
            "1563/1563 [==============================] - 11s 7ms/step - loss: 0.2584 - accuracy: 0.9104 - val_loss: 1.1463 - val_accuracy: 0.7662\n",
            "Epoch 33/50\n",
            "1563/1563 [==============================] - 11s 7ms/step - loss: 0.2689 - accuracy: 0.9091 - val_loss: 0.9812 - val_accuracy: 0.7765\n",
            "Epoch 34/50\n",
            "1563/1563 [==============================] - 11s 7ms/step - loss: 0.2526 - accuracy: 0.9158 - val_loss: 1.0444 - val_accuracy: 0.7813\n",
            "Epoch 35/50\n",
            "1563/1563 [==============================] - 11s 7ms/step - loss: 0.2495 - accuracy: 0.9145 - val_loss: 1.1134 - val_accuracy: 0.7705\n",
            "Epoch 36/50\n",
            "1563/1563 [==============================] - 11s 7ms/step - loss: 0.2513 - accuracy: 0.9146 - val_loss: 1.1623 - val_accuracy: 0.7741\n",
            "Epoch 37/50\n",
            "1563/1563 [==============================] - 11s 7ms/step - loss: 0.2490 - accuracy: 0.9172 - val_loss: 1.1060 - val_accuracy: 0.7725\n",
            "Epoch 38/50\n",
            "1563/1563 [==============================] - 11s 7ms/step - loss: 0.2517 - accuracy: 0.9159 - val_loss: 1.0374 - val_accuracy: 0.7714\n",
            "Epoch 39/50\n",
            "1563/1563 [==============================] - 11s 7ms/step - loss: 0.2405 - accuracy: 0.9181 - val_loss: 1.0913 - val_accuracy: 0.7856\n",
            "Epoch 40/50\n",
            "1563/1563 [==============================] - 11s 7ms/step - loss: 0.2395 - accuracy: 0.9199 - val_loss: 1.0394 - val_accuracy: 0.7766\n",
            "Epoch 41/50\n",
            "1563/1563 [==============================] - 11s 7ms/step - loss: 0.2460 - accuracy: 0.9167 - val_loss: 1.1513 - val_accuracy: 0.7771\n",
            "Epoch 42/50\n",
            "1563/1563 [==============================] - 11s 7ms/step - loss: 0.2339 - accuracy: 0.9211 - val_loss: 1.1614 - val_accuracy: 0.7743\n",
            "Epoch 43/50\n",
            "1563/1563 [==============================] - 11s 7ms/step - loss: 0.2389 - accuracy: 0.9181 - val_loss: 1.2518 - val_accuracy: 0.7656\n",
            "Epoch 44/50\n",
            "1563/1563 [==============================] - 11s 7ms/step - loss: 0.2311 - accuracy: 0.9238 - val_loss: 1.2178 - val_accuracy: 0.7645\n",
            "Epoch 45/50\n",
            "1563/1563 [==============================] - 11s 7ms/step - loss: 0.2368 - accuracy: 0.9206 - val_loss: 1.3677 - val_accuracy: 0.7551\n",
            "Epoch 46/50\n",
            "1563/1563 [==============================] - 11s 7ms/step - loss: 0.2474 - accuracy: 0.9215 - val_loss: 1.1752 - val_accuracy: 0.7659\n",
            "Epoch 47/50\n",
            "1563/1563 [==============================] - 11s 7ms/step - loss: 0.2397 - accuracy: 0.9205 - val_loss: 1.0985 - val_accuracy: 0.7682\n",
            "Epoch 48/50\n",
            "1563/1563 [==============================] - 11s 7ms/step - loss: 0.2255 - accuracy: 0.9261 - val_loss: 1.1000 - val_accuracy: 0.7737\n",
            "Epoch 49/50\n",
            "1563/1563 [==============================] - 11s 7ms/step - loss: 0.2296 - accuracy: 0.9245 - val_loss: 1.0739 - val_accuracy: 0.7767\n",
            "Epoch 50/50\n",
            "1563/1563 [==============================] - 11s 7ms/step - loss: 0.2261 - accuracy: 0.9277 - val_loss: 1.3044 - val_accuracy: 0.7631\n"
          ],
          "name": "stdout"
        }
      ]
    },
    {
      "cell_type": "code",
      "metadata": {
        "id": "9SueJlWAJtBN"
      },
      "source": [
        "model4 = Sequential()\n"
      ],
      "execution_count": 22,
      "outputs": []
    },
    {
      "cell_type": "code",
      "metadata": {
        "id": "Zn3G3iAUJvrL"
      },
      "source": [
        "model4.add(Conv2D(filters=32, kernel_size=(3,3),activation='LeakyReLU',input_shape=input_shape, padding='same' ))\n",
        "model4.add(Conv2D(filters=32, kernel_size=(3,3),activation='LeakyReLU',input_shape=input_shape, padding='same' ))\n",
        "\n",
        "model4.add(MaxPool2D(pool_size=(2,2)))\n",
        "model4.add(Conv2D(filters=64, kernel_size=(3,3),activation='LeakyReLU', padding='same'))\n",
        "model4.add(Conv2D(filters=64, kernel_size=(3,3),activation='LeakyReLU', padding='same'))\n",
        "model4.add(MaxPool2D(pool_size=(2,2)))\n",
        "model4.add(Conv2D(filters=64, kernel_size=(3,3), activation='LeakyReLU'))\n",
        "model4.add(Conv2D(filters=64, kernel_size=(3,3), activation='LeakyReLU'))\n",
        "model4.add(Dropout(.25))\n",
        "model4.add(MaxPool2D(pool_size=(2,2)))\n",
        "model4.add(Conv2D(filters=64, kernel_size=(2,2), activation='LeakyReLU'))\n",
        "\n",
        "model4.add(Flatten())\n",
        "\n",
        "model4.add(Dense(64, activation='relu'))\n",
        "model4.add(Dense(32, activation='relu'))\n",
        "model4.add(Dense(10, activation='softmax'))"
      ],
      "execution_count": 23,
      "outputs": []
    },
    {
      "cell_type": "code",
      "metadata": {
        "colab": {
          "base_uri": "https://localhost:8080/"
        },
        "id": "6AzAsU6dKUf_",
        "outputId": "94631e63-8d55-49b4-adf0-bff25008931e"
      },
      "source": [
        "model4.summary()"
      ],
      "execution_count": 24,
      "outputs": [
        {
          "output_type": "stream",
          "text": [
            "Model: \"sequential_2\"\n",
            "_________________________________________________________________\n",
            "Layer (type)                 Output Shape              Param #   \n",
            "=================================================================\n",
            "conv2d_16 (Conv2D)           (None, 32, 32, 32)        896       \n",
            "_________________________________________________________________\n",
            "conv2d_17 (Conv2D)           (None, 32, 32, 32)        9248      \n",
            "_________________________________________________________________\n",
            "max_pooling2d_4 (MaxPooling2 (None, 16, 16, 32)        0         \n",
            "_________________________________________________________________\n",
            "conv2d_18 (Conv2D)           (None, 16, 16, 64)        18496     \n",
            "_________________________________________________________________\n",
            "conv2d_19 (Conv2D)           (None, 16, 16, 64)        36928     \n",
            "_________________________________________________________________\n",
            "max_pooling2d_5 (MaxPooling2 (None, 8, 8, 64)          0         \n",
            "_________________________________________________________________\n",
            "conv2d_20 (Conv2D)           (None, 6, 6, 64)          36928     \n",
            "_________________________________________________________________\n",
            "conv2d_21 (Conv2D)           (None, 4, 4, 64)          36928     \n",
            "_________________________________________________________________\n",
            "dropout_2 (Dropout)          (None, 4, 4, 64)          0         \n",
            "_________________________________________________________________\n",
            "max_pooling2d_6 (MaxPooling2 (None, 2, 2, 64)          0         \n",
            "_________________________________________________________________\n",
            "conv2d_22 (Conv2D)           (None, 1, 1, 64)          16448     \n",
            "_________________________________________________________________\n",
            "flatten_2 (Flatten)          (None, 64)                0         \n",
            "_________________________________________________________________\n",
            "dense_4 (Dense)              (None, 64)                4160      \n",
            "_________________________________________________________________\n",
            "dense_5 (Dense)              (None, 32)                2080      \n",
            "_________________________________________________________________\n",
            "dense_6 (Dense)              (None, 10)                330       \n",
            "=================================================================\n",
            "Total params: 162,442\n",
            "Trainable params: 162,442\n",
            "Non-trainable params: 0\n",
            "_________________________________________________________________\n"
          ],
          "name": "stdout"
        }
      ]
    },
    {
      "cell_type": "code",
      "metadata": {
        "id": "XJneNIcvKgIO"
      },
      "source": [
        "model4.compile(optimizer=keras.optimizers.RMSprop(learning_rate=0.0001, decay=1e-06),loss='categorical_crossentropy', metrics=['accuracy'])"
      ],
      "execution_count": 26,
      "outputs": []
    },
    {
      "cell_type": "code",
      "metadata": {
        "colab": {
          "base_uri": "https://localhost:8080/"
        },
        "id": "kI3aYiNxKx6t",
        "outputId": "439d0184-84bf-4a28-9402-c722d30bff47"
      },
      "source": [
        "hist4 = model4.fit(X_train, y_train, batch_size=32, epochs=50, validation_data=(X_test, y_test), shuffle=True)"
      ],
      "execution_count": 36,
      "outputs": [
        {
          "output_type": "stream",
          "text": [
            "Epoch 1/50\n",
            "1563/1563 [==============================] - 10s 6ms/step - loss: 0.8683 - accuracy: 0.6922 - val_loss: 0.9319 - val_accuracy: 0.6864\n",
            "Epoch 2/50\n",
            "1563/1563 [==============================] - 11s 7ms/step - loss: 0.8371 - accuracy: 0.7048 - val_loss: 0.8821 - val_accuracy: 0.6950\n",
            "Epoch 3/50\n",
            "1563/1563 [==============================] - 11s 7ms/step - loss: 0.8048 - accuracy: 0.7171 - val_loss: 0.8542 - val_accuracy: 0.7043\n",
            "Epoch 4/50\n",
            "1563/1563 [==============================] - 11s 7ms/step - loss: 0.7771 - accuracy: 0.7260 - val_loss: 0.9299 - val_accuracy: 0.6653\n",
            "Epoch 5/50\n",
            "1563/1563 [==============================] - 11s 7ms/step - loss: 0.7522 - accuracy: 0.7349 - val_loss: 0.8307 - val_accuracy: 0.7134\n",
            "Epoch 6/50\n",
            "1563/1563 [==============================] - 10s 7ms/step - loss: 0.7259 - accuracy: 0.7434 - val_loss: 0.7919 - val_accuracy: 0.7267\n",
            "Epoch 7/50\n",
            "1563/1563 [==============================] - 11s 7ms/step - loss: 0.7019 - accuracy: 0.7551 - val_loss: 0.7921 - val_accuracy: 0.7275\n",
            "Epoch 8/50\n",
            "1563/1563 [==============================] - 11s 7ms/step - loss: 0.6822 - accuracy: 0.7607 - val_loss: 0.7756 - val_accuracy: 0.7303\n",
            "Epoch 9/50\n",
            "1563/1563 [==============================] - 11s 7ms/step - loss: 0.6628 - accuracy: 0.7658 - val_loss: 0.7580 - val_accuracy: 0.7369\n",
            "Epoch 10/50\n",
            "1563/1563 [==============================] - 11s 7ms/step - loss: 0.6441 - accuracy: 0.7745 - val_loss: 0.7319 - val_accuracy: 0.7467\n",
            "Epoch 11/50\n",
            "1563/1563 [==============================] - 10s 7ms/step - loss: 0.6276 - accuracy: 0.7802 - val_loss: 0.7528 - val_accuracy: 0.7393\n",
            "Epoch 12/50\n",
            "1563/1563 [==============================] - 11s 7ms/step - loss: 0.6115 - accuracy: 0.7850 - val_loss: 0.7364 - val_accuracy: 0.7430\n",
            "Epoch 13/50\n",
            "1563/1563 [==============================] - 11s 7ms/step - loss: 0.5952 - accuracy: 0.7916 - val_loss: 0.7383 - val_accuracy: 0.7461\n",
            "Epoch 14/50\n",
            "1563/1563 [==============================] - 10s 7ms/step - loss: 0.5808 - accuracy: 0.7965 - val_loss: 0.7226 - val_accuracy: 0.7532\n",
            "Epoch 15/50\n",
            "1563/1563 [==============================] - 11s 7ms/step - loss: 0.5654 - accuracy: 0.8009 - val_loss: 0.7177 - val_accuracy: 0.7534\n",
            "Epoch 16/50\n",
            "1563/1563 [==============================] - 11s 7ms/step - loss: 0.5516 - accuracy: 0.8063 - val_loss: 0.7167 - val_accuracy: 0.7509\n",
            "Epoch 17/50\n",
            "1563/1563 [==============================] - 10s 7ms/step - loss: 0.5404 - accuracy: 0.8096 - val_loss: 0.6965 - val_accuracy: 0.7586\n",
            "Epoch 18/50\n",
            "1563/1563 [==============================] - 10s 7ms/step - loss: 0.5252 - accuracy: 0.8155 - val_loss: 0.6856 - val_accuracy: 0.7633\n",
            "Epoch 19/50\n",
            "1563/1563 [==============================] - 11s 7ms/step - loss: 0.5156 - accuracy: 0.8198 - val_loss: 0.6648 - val_accuracy: 0.7718\n",
            "Epoch 20/50\n",
            "1563/1563 [==============================] - 10s 7ms/step - loss: 0.5046 - accuracy: 0.8224 - val_loss: 0.6729 - val_accuracy: 0.7709\n",
            "Epoch 21/50\n",
            "1563/1563 [==============================] - 11s 7ms/step - loss: 0.4913 - accuracy: 0.8276 - val_loss: 0.6815 - val_accuracy: 0.7666\n",
            "Epoch 22/50\n",
            "1563/1563 [==============================] - 10s 7ms/step - loss: 0.4826 - accuracy: 0.8307 - val_loss: 0.6822 - val_accuracy: 0.7667\n",
            "Epoch 23/50\n",
            "1563/1563 [==============================] - 10s 7ms/step - loss: 0.4749 - accuracy: 0.8334 - val_loss: 0.6672 - val_accuracy: 0.7709\n",
            "Epoch 24/50\n",
            "1563/1563 [==============================] - 10s 7ms/step - loss: 0.4594 - accuracy: 0.8386 - val_loss: 0.6549 - val_accuracy: 0.7777\n",
            "Epoch 25/50\n",
            "1563/1563 [==============================] - 11s 7ms/step - loss: 0.4500 - accuracy: 0.8425 - val_loss: 0.6611 - val_accuracy: 0.7809\n",
            "Epoch 26/50\n",
            "1563/1563 [==============================] - 11s 7ms/step - loss: 0.4406 - accuracy: 0.8435 - val_loss: 0.6909 - val_accuracy: 0.7681\n",
            "Epoch 27/50\n",
            "1563/1563 [==============================] - 10s 7ms/step - loss: 0.4292 - accuracy: 0.8490 - val_loss: 0.6728 - val_accuracy: 0.7769\n",
            "Epoch 28/50\n",
            "1563/1563 [==============================] - 11s 7ms/step - loss: 0.4221 - accuracy: 0.8529 - val_loss: 0.6847 - val_accuracy: 0.7731\n",
            "Epoch 29/50\n",
            "1563/1563 [==============================] - 11s 7ms/step - loss: 0.4172 - accuracy: 0.8537 - val_loss: 0.6532 - val_accuracy: 0.7839\n",
            "Epoch 30/50\n",
            "1563/1563 [==============================] - 10s 7ms/step - loss: 0.4066 - accuracy: 0.8566 - val_loss: 0.6505 - val_accuracy: 0.7803\n",
            "Epoch 31/50\n",
            "1563/1563 [==============================] - 11s 7ms/step - loss: 0.3985 - accuracy: 0.8585 - val_loss: 0.6848 - val_accuracy: 0.7782\n",
            "Epoch 32/50\n",
            "1563/1563 [==============================] - 11s 7ms/step - loss: 0.3861 - accuracy: 0.8641 - val_loss: 0.6557 - val_accuracy: 0.7799\n",
            "Epoch 33/50\n",
            "1563/1563 [==============================] - 11s 7ms/step - loss: 0.3788 - accuracy: 0.8678 - val_loss: 0.6572 - val_accuracy: 0.7879\n",
            "Epoch 34/50\n",
            "1563/1563 [==============================] - 11s 7ms/step - loss: 0.3733 - accuracy: 0.8682 - val_loss: 0.6449 - val_accuracy: 0.7890\n",
            "Epoch 35/50\n",
            "1563/1563 [==============================] - 11s 7ms/step - loss: 0.3672 - accuracy: 0.8698 - val_loss: 0.6594 - val_accuracy: 0.7835\n",
            "Epoch 36/50\n",
            "1563/1563 [==============================] - 11s 7ms/step - loss: 0.3591 - accuracy: 0.8729 - val_loss: 0.6599 - val_accuracy: 0.7863\n",
            "Epoch 37/50\n",
            "1563/1563 [==============================] - 11s 7ms/step - loss: 0.3500 - accuracy: 0.8757 - val_loss: 0.6543 - val_accuracy: 0.7886\n",
            "Epoch 38/50\n",
            "1563/1563 [==============================] - 11s 7ms/step - loss: 0.3427 - accuracy: 0.8786 - val_loss: 0.6828 - val_accuracy: 0.7805\n",
            "Epoch 39/50\n",
            "1563/1563 [==============================] - 11s 7ms/step - loss: 0.3385 - accuracy: 0.8791 - val_loss: 0.6709 - val_accuracy: 0.7885\n",
            "Epoch 40/50\n",
            "1563/1563 [==============================] - 11s 7ms/step - loss: 0.3304 - accuracy: 0.8840 - val_loss: 0.6587 - val_accuracy: 0.7884\n",
            "Epoch 41/50\n",
            "1563/1563 [==============================] - 11s 7ms/step - loss: 0.3202 - accuracy: 0.8877 - val_loss: 0.6632 - val_accuracy: 0.7878\n",
            "Epoch 42/50\n",
            "1563/1563 [==============================] - 10s 7ms/step - loss: 0.3150 - accuracy: 0.8893 - val_loss: 0.6914 - val_accuracy: 0.7818\n",
            "Epoch 43/50\n",
            "1563/1563 [==============================] - 10s 7ms/step - loss: 0.3104 - accuracy: 0.8908 - val_loss: 0.6660 - val_accuracy: 0.7869\n",
            "Epoch 44/50\n",
            "1563/1563 [==============================] - 11s 7ms/step - loss: 0.3049 - accuracy: 0.8912 - val_loss: 0.6868 - val_accuracy: 0.7901\n",
            "Epoch 45/50\n",
            "1563/1563 [==============================] - 11s 7ms/step - loss: 0.2957 - accuracy: 0.8952 - val_loss: 0.6752 - val_accuracy: 0.7850\n",
            "Epoch 46/50\n",
            "1563/1563 [==============================] - 11s 7ms/step - loss: 0.2918 - accuracy: 0.8971 - val_loss: 0.6797 - val_accuracy: 0.7895\n",
            "Epoch 47/50\n",
            "1563/1563 [==============================] - 11s 7ms/step - loss: 0.2830 - accuracy: 0.9001 - val_loss: 0.6839 - val_accuracy: 0.7899\n",
            "Epoch 48/50\n",
            "1563/1563 [==============================] - 11s 7ms/step - loss: 0.2791 - accuracy: 0.9000 - val_loss: 0.7770 - val_accuracy: 0.7715\n",
            "Epoch 49/50\n",
            "1563/1563 [==============================] - 10s 7ms/step - loss: 0.2719 - accuracy: 0.9037 - val_loss: 0.7008 - val_accuracy: 0.7893\n",
            "Epoch 50/50\n",
            "1563/1563 [==============================] - 10s 7ms/step - loss: 0.2722 - accuracy: 0.9024 - val_loss: 0.6919 - val_accuracy: 0.7862\n"
          ],
          "name": "stdout"
        }
      ]
    },
    {
      "cell_type": "code",
      "metadata": {
        "id": "zz50wiphK1jI"
      },
      "source": [
        "model5 = Sequential()\n"
      ],
      "execution_count": 28,
      "outputs": []
    },
    {
      "cell_type": "code",
      "metadata": {
        "id": "jj1JP6ftLYF8"
      },
      "source": [
        "model5.add(Conv2D(filters=32, kernel_size=(3,3),activation='LeakyReLU',input_shape=input_shape, padding='same' ))\n",
        "model5.add(Conv2D(filters=32, kernel_size=(3,3),activation='LeakyReLU',input_shape=input_shape, padding='same' ))\n",
        "model5.add(Conv2D(filters=32, kernel_size=(3,3),activation='LeakyReLU'))\n",
        "model5.add(Conv2D(filters=32, kernel_size=(3,3),activation='LeakyReLU'))\n",
        "model5.add(MaxPool2D(pool_size=(2,2)))\n",
        "model5.add(Conv2D(filters=64, kernel_size=(3,3), activation='LeakyReLU'))\n",
        "model5.add(Conv2D(filters=64, kernel_size=(3,3), activation='LeakyReLU'))\n",
        "model5.add(Dropout(.2))\n",
        "model5.add(MaxPool2D(pool_size=(2,2)))\n",
        "model5.add(Conv2D(filters=128, kernel_size=(3,3), activation='LeakyReLU'))\n",
        "model5.add(Conv2D(filters=128, kernel_size=(3,3), activation='LeakyReLU'))\n",
        "\n",
        "model5.add(Flatten())\n",
        "\n",
        "model5.add(Dense(64, activation='relu'))\n",
        "model5.add(Dense(10, activation='softmax'))"
      ],
      "execution_count": 29,
      "outputs": []
    },
    {
      "cell_type": "code",
      "metadata": {
        "colab": {
          "base_uri": "https://localhost:8080/"
        },
        "id": "7XWII4LQkhLm",
        "outputId": "043b2197-4d47-4217-b1ad-53a22037bb37"
      },
      "source": [
        "model5.summary()"
      ],
      "execution_count": 31,
      "outputs": [
        {
          "output_type": "stream",
          "text": [
            "Model: \"sequential_3\"\n",
            "_________________________________________________________________\n",
            "Layer (type)                 Output Shape              Param #   \n",
            "=================================================================\n",
            "conv2d_23 (Conv2D)           (None, 32, 32, 32)        896       \n",
            "_________________________________________________________________\n",
            "conv2d_24 (Conv2D)           (None, 32, 32, 32)        9248      \n",
            "_________________________________________________________________\n",
            "conv2d_25 (Conv2D)           (None, 30, 30, 32)        9248      \n",
            "_________________________________________________________________\n",
            "conv2d_26 (Conv2D)           (None, 28, 28, 32)        9248      \n",
            "_________________________________________________________________\n",
            "max_pooling2d_7 (MaxPooling2 (None, 14, 14, 32)        0         \n",
            "_________________________________________________________________\n",
            "conv2d_27 (Conv2D)           (None, 12, 12, 64)        18496     \n",
            "_________________________________________________________________\n",
            "conv2d_28 (Conv2D)           (None, 10, 10, 64)        36928     \n",
            "_________________________________________________________________\n",
            "dropout_3 (Dropout)          (None, 10, 10, 64)        0         \n",
            "_________________________________________________________________\n",
            "max_pooling2d_8 (MaxPooling2 (None, 5, 5, 64)          0         \n",
            "_________________________________________________________________\n",
            "conv2d_29 (Conv2D)           (None, 3, 3, 128)         73856     \n",
            "_________________________________________________________________\n",
            "conv2d_30 (Conv2D)           (None, 1, 1, 128)         147584    \n",
            "_________________________________________________________________\n",
            "flatten_3 (Flatten)          (None, 128)               0         \n",
            "_________________________________________________________________\n",
            "dense_7 (Dense)              (None, 64)                8256      \n",
            "_________________________________________________________________\n",
            "dense_8 (Dense)              (None, 10)                650       \n",
            "=================================================================\n",
            "Total params: 314,410\n",
            "Trainable params: 314,410\n",
            "Non-trainable params: 0\n",
            "_________________________________________________________________\n"
          ],
          "name": "stdout"
        }
      ]
    },
    {
      "cell_type": "code",
      "metadata": {
        "id": "X05NLgWsLilE"
      },
      "source": [
        "model5.compile(optimizer='adam',loss='categorical_crossentropy', metrics=['accuracy'])"
      ],
      "execution_count": 32,
      "outputs": []
    },
    {
      "cell_type": "code",
      "metadata": {
        "colab": {
          "base_uri": "https://localhost:8080/"
        },
        "id": "smRIJIzYLm6w",
        "outputId": "403aa2ee-ad8d-4806-a990-d585c69839f8"
      },
      "source": [
        "hist5 = model5.fit(X_train, y_train, batch_size=32, epochs=50, validation_data=(X_test, y_test), shuffle=True)"
      ],
      "execution_count": 33,
      "outputs": [
        {
          "output_type": "stream",
          "text": [
            "Epoch 1/50\n",
            "1563/1563 [==============================] - 14s 8ms/step - loss: 1.7547 - accuracy: 0.3470 - val_loss: 1.2933 - val_accuracy: 0.5691\n",
            "Epoch 2/50\n",
            "1563/1563 [==============================] - 11s 7ms/step - loss: 1.0034 - accuracy: 0.6446 - val_loss: 0.9575 - val_accuracy: 0.6696\n",
            "Epoch 3/50\n",
            "1563/1563 [==============================] - 11s 7ms/step - loss: 0.8221 - accuracy: 0.7125 - val_loss: 1.0897 - val_accuracy: 0.6729\n",
            "Epoch 4/50\n",
            "1563/1563 [==============================] - 11s 7ms/step - loss: 0.7393 - accuracy: 0.7409 - val_loss: 0.7812 - val_accuracy: 0.7403\n",
            "Epoch 5/50\n",
            "1563/1563 [==============================] - 11s 7ms/step - loss: 0.6620 - accuracy: 0.7705 - val_loss: 0.8054 - val_accuracy: 0.7378\n",
            "Epoch 6/50\n",
            "1563/1563 [==============================] - 11s 7ms/step - loss: 0.6172 - accuracy: 0.7835 - val_loss: 0.8238 - val_accuracy: 0.7403\n",
            "Epoch 7/50\n",
            "1563/1563 [==============================] - 11s 7ms/step - loss: 0.5646 - accuracy: 0.8038 - val_loss: 0.7627 - val_accuracy: 0.7568\n",
            "Epoch 8/50\n",
            "1563/1563 [==============================] - 12s 7ms/step - loss: 0.5407 - accuracy: 0.8093 - val_loss: 0.8597 - val_accuracy: 0.7492\n",
            "Epoch 9/50\n",
            "1563/1563 [==============================] - 11s 7ms/step - loss: 0.4999 - accuracy: 0.8242 - val_loss: 0.8477 - val_accuracy: 0.7419\n",
            "Epoch 10/50\n",
            "1563/1563 [==============================] - 11s 7ms/step - loss: 0.4736 - accuracy: 0.8348 - val_loss: 0.7933 - val_accuracy: 0.7590\n",
            "Epoch 11/50\n",
            "1563/1563 [==============================] - 11s 7ms/step - loss: 0.4515 - accuracy: 0.8407 - val_loss: 0.8663 - val_accuracy: 0.7536\n",
            "Epoch 12/50\n",
            "1563/1563 [==============================] - 12s 7ms/step - loss: 0.4279 - accuracy: 0.8499 - val_loss: 0.8487 - val_accuracy: 0.7588\n",
            "Epoch 13/50\n",
            "1563/1563 [==============================] - 11s 7ms/step - loss: 0.4150 - accuracy: 0.8551 - val_loss: 0.9057 - val_accuracy: 0.7509\n",
            "Epoch 14/50\n",
            "1563/1563 [==============================] - 12s 8ms/step - loss: 0.4063 - accuracy: 0.8593 - val_loss: 0.7562 - val_accuracy: 0.7776\n",
            "Epoch 15/50\n",
            "1563/1563 [==============================] - 11s 7ms/step - loss: 0.3826 - accuracy: 0.8661 - val_loss: 0.7800 - val_accuracy: 0.7839\n",
            "Epoch 16/50\n",
            "1563/1563 [==============================] - 12s 7ms/step - loss: 0.3666 - accuracy: 0.8714 - val_loss: 0.9208 - val_accuracy: 0.7589\n",
            "Epoch 17/50\n",
            "1563/1563 [==============================] - 11s 7ms/step - loss: 0.3633 - accuracy: 0.8747 - val_loss: 0.8735 - val_accuracy: 0.7714\n",
            "Epoch 18/50\n",
            "1563/1563 [==============================] - 11s 7ms/step - loss: 0.3426 - accuracy: 0.8809 - val_loss: 0.8656 - val_accuracy: 0.7804\n",
            "Epoch 19/50\n",
            "1563/1563 [==============================] - 11s 7ms/step - loss: 0.3352 - accuracy: 0.8836 - val_loss: 0.8913 - val_accuracy: 0.7683\n",
            "Epoch 20/50\n",
            "1563/1563 [==============================] - 11s 7ms/step - loss: 0.3312 - accuracy: 0.8851 - val_loss: 0.9302 - val_accuracy: 0.7623\n",
            "Epoch 21/50\n",
            "1563/1563 [==============================] - 11s 7ms/step - loss: 0.3185 - accuracy: 0.8888 - val_loss: 1.0360 - val_accuracy: 0.7540\n",
            "Epoch 22/50\n",
            "1563/1563 [==============================] - 12s 7ms/step - loss: 0.3126 - accuracy: 0.8933 - val_loss: 0.8732 - val_accuracy: 0.7749\n",
            "Epoch 23/50\n",
            "1563/1563 [==============================] - 11s 7ms/step - loss: 0.2995 - accuracy: 0.8948 - val_loss: 0.9933 - val_accuracy: 0.7607\n",
            "Epoch 24/50\n",
            "1563/1563 [==============================] - 11s 7ms/step - loss: 0.2927 - accuracy: 0.8993 - val_loss: 1.0634 - val_accuracy: 0.7464\n",
            "Epoch 25/50\n",
            "1563/1563 [==============================] - 11s 7ms/step - loss: 0.2925 - accuracy: 0.8995 - val_loss: 0.9340 - val_accuracy: 0.7757\n",
            "Epoch 26/50\n",
            "1563/1563 [==============================] - 11s 7ms/step - loss: 0.2946 - accuracy: 0.8974 - val_loss: 1.0459 - val_accuracy: 0.7735\n",
            "Epoch 27/50\n",
            "1563/1563 [==============================] - 11s 7ms/step - loss: 0.2869 - accuracy: 0.9001 - val_loss: 1.0641 - val_accuracy: 0.7636\n",
            "Epoch 28/50\n",
            "1563/1563 [==============================] - 12s 7ms/step - loss: 0.2816 - accuracy: 0.9040 - val_loss: 1.1087 - val_accuracy: 0.7585\n",
            "Epoch 29/50\n",
            "1563/1563 [==============================] - 11s 7ms/step - loss: 0.2818 - accuracy: 0.9021 - val_loss: 1.0175 - val_accuracy: 0.7664\n",
            "Epoch 30/50\n",
            "1563/1563 [==============================] - 11s 7ms/step - loss: 0.2580 - accuracy: 0.9116 - val_loss: 1.0150 - val_accuracy: 0.7792\n",
            "Epoch 31/50\n",
            "1563/1563 [==============================] - 11s 7ms/step - loss: 0.2651 - accuracy: 0.9107 - val_loss: 0.9629 - val_accuracy: 0.7729\n",
            "Epoch 32/50\n",
            "1563/1563 [==============================] - 11s 7ms/step - loss: 0.2677 - accuracy: 0.9100 - val_loss: 1.0582 - val_accuracy: 0.7724\n",
            "Epoch 33/50\n",
            "1563/1563 [==============================] - 12s 7ms/step - loss: 0.2673 - accuracy: 0.9105 - val_loss: 1.1295 - val_accuracy: 0.7731\n",
            "Epoch 34/50\n",
            "1563/1563 [==============================] - 11s 7ms/step - loss: 0.2537 - accuracy: 0.9128 - val_loss: 0.9975 - val_accuracy: 0.7659\n",
            "Epoch 35/50\n",
            "1563/1563 [==============================] - 11s 7ms/step - loss: 0.2529 - accuracy: 0.9142 - val_loss: 1.0688 - val_accuracy: 0.7634\n",
            "Epoch 36/50\n",
            "1563/1563 [==============================] - 11s 7ms/step - loss: 0.2607 - accuracy: 0.9122 - val_loss: 1.1341 - val_accuracy: 0.7627\n",
            "Epoch 37/50\n",
            "1563/1563 [==============================] - 11s 7ms/step - loss: 0.2433 - accuracy: 0.9162 - val_loss: 1.1513 - val_accuracy: 0.7665\n",
            "Epoch 38/50\n",
            "1563/1563 [==============================] - 11s 7ms/step - loss: 0.2440 - accuracy: 0.9164 - val_loss: 1.1065 - val_accuracy: 0.7684\n",
            "Epoch 39/50\n",
            "1563/1563 [==============================] - 12s 8ms/step - loss: 0.2547 - accuracy: 0.9136 - val_loss: 1.0326 - val_accuracy: 0.7819\n",
            "Epoch 40/50\n",
            "1563/1563 [==============================] - 11s 7ms/step - loss: 0.2429 - accuracy: 0.9176 - val_loss: 1.0451 - val_accuracy: 0.7734\n",
            "Epoch 41/50\n",
            "1563/1563 [==============================] - 11s 7ms/step - loss: 0.2420 - accuracy: 0.9187 - val_loss: 1.2541 - val_accuracy: 0.7668\n",
            "Epoch 42/50\n",
            "1563/1563 [==============================] - 11s 7ms/step - loss: 0.2532 - accuracy: 0.9148 - val_loss: 1.0701 - val_accuracy: 0.7780\n",
            "Epoch 43/50\n",
            "1563/1563 [==============================] - 12s 7ms/step - loss: 0.2385 - accuracy: 0.9210 - val_loss: 1.1339 - val_accuracy: 0.7704\n",
            "Epoch 44/50\n",
            "1563/1563 [==============================] - 11s 7ms/step - loss: 0.2351 - accuracy: 0.9230 - val_loss: 1.0904 - val_accuracy: 0.7876\n",
            "Epoch 45/50\n",
            "1563/1563 [==============================] - 11s 7ms/step - loss: 0.2386 - accuracy: 0.9205 - val_loss: 1.0671 - val_accuracy: 0.7714\n",
            "Epoch 46/50\n",
            "1563/1563 [==============================] - 11s 7ms/step - loss: 0.2404 - accuracy: 0.9210 - val_loss: 1.1889 - val_accuracy: 0.7742\n",
            "Epoch 47/50\n",
            "1563/1563 [==============================] - 11s 7ms/step - loss: 0.2463 - accuracy: 0.9171 - val_loss: 1.1650 - val_accuracy: 0.7778\n",
            "Epoch 48/50\n",
            "1563/1563 [==============================] - 12s 7ms/step - loss: 0.2460 - accuracy: 0.9203 - val_loss: 1.3205 - val_accuracy: 0.7664\n",
            "Epoch 49/50\n",
            "1563/1563 [==============================] - 11s 7ms/step - loss: 0.2271 - accuracy: 0.9240 - val_loss: 1.3548 - val_accuracy: 0.7649\n",
            "Epoch 50/50\n",
            "1563/1563 [==============================] - 11s 7ms/step - loss: 0.2358 - accuracy: 0.9229 - val_loss: 1.1831 - val_accuracy: 0.7673\n"
          ],
          "name": "stdout"
        }
      ]
    }
  ]
}